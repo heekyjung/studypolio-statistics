{
 "cells": [
  {
   "cell_type": "markdown",
   "metadata": {},
   "source": [
    "# 회귀분석에서 변수의 변형\n",
    "## 데이터를 원하는대로 변형하는 방법\n",
    "1. 원본 데이터에 변형을 한다. → 두 단계를 거쳐야 하므로 복잡\n",
    "2. 관계식에 써준다.\n",
    " - 기존의 함수를 적용 / 예: log(x)\n",
    " - 간단한 산식을 적용 / 예: I(x-1)"
   ]
  },
  {
   "cell_type": "code",
   "execution_count": 1,
   "metadata": {},
   "outputs": [],
   "source": [
    "import pandas as pd\n",
    "from statsmodels.formula.api import ols\n",
    "from numpy import log"
   ]
  },
  {
   "cell_type": "markdown",
   "metadata": {},
   "source": [
    "## 데이터 불러오기\n",
    "### 안전도 데이터"
   ]
  },
  {
   "cell_type": "code",
   "execution_count": 2,
   "metadata": {
    "scrolled": true
   },
   "outputs": [
    {
     "data": {
      "text/html": [
       "<div>\n",
       "<style scoped>\n",
       "    .dataframe tbody tr th:only-of-type {\n",
       "        vertical-align: middle;\n",
       "    }\n",
       "\n",
       "    .dataframe tbody tr th {\n",
       "        vertical-align: top;\n",
       "    }\n",
       "\n",
       "    .dataframe thead th {\n",
       "        text-align: right;\n",
       "    }\n",
       "</style>\n",
       "<table border=\"1\" class=\"dataframe\">\n",
       "  <thead>\n",
       "    <tr style=\"text-align: right;\">\n",
       "      <th></th>\n",
       "      <th>risk</th>\n",
       "      <th>fuel</th>\n",
       "      <th>aspiration</th>\n",
       "      <th>doors</th>\n",
       "      <th>body</th>\n",
       "      <th>wheels</th>\n",
       "      <th>engine_location</th>\n",
       "      <th>wheel_base</th>\n",
       "      <th>length</th>\n",
       "      <th>width</th>\n",
       "      <th>height</th>\n",
       "      <th>curb_weight</th>\n",
       "      <th>bore</th>\n",
       "      <th>stroke</th>\n",
       "      <th>compression_ratio</th>\n",
       "      <th>horsepower</th>\n",
       "      <th>peak_rpm</th>\n",
       "      <th>city_mpg</th>\n",
       "      <th>highway_mpg</th>\n",
       "    </tr>\n",
       "  </thead>\n",
       "  <tbody>\n",
       "    <tr>\n",
       "      <th>0</th>\n",
       "      <td>2</td>\n",
       "      <td>gas</td>\n",
       "      <td>std</td>\n",
       "      <td>four</td>\n",
       "      <td>sedan</td>\n",
       "      <td>fwd</td>\n",
       "      <td>front</td>\n",
       "      <td>99.8</td>\n",
       "      <td>176.6</td>\n",
       "      <td>66.2</td>\n",
       "      <td>54.3</td>\n",
       "      <td>2337</td>\n",
       "      <td>3.19</td>\n",
       "      <td>3.4</td>\n",
       "      <td>10.0</td>\n",
       "      <td>102</td>\n",
       "      <td>5500</td>\n",
       "      <td>24</td>\n",
       "      <td>30</td>\n",
       "    </tr>\n",
       "    <tr>\n",
       "      <th>1</th>\n",
       "      <td>2</td>\n",
       "      <td>gas</td>\n",
       "      <td>std</td>\n",
       "      <td>four</td>\n",
       "      <td>sedan</td>\n",
       "      <td>4wd</td>\n",
       "      <td>front</td>\n",
       "      <td>99.4</td>\n",
       "      <td>176.6</td>\n",
       "      <td>66.4</td>\n",
       "      <td>54.3</td>\n",
       "      <td>2824</td>\n",
       "      <td>3.19</td>\n",
       "      <td>3.4</td>\n",
       "      <td>8.0</td>\n",
       "      <td>115</td>\n",
       "      <td>5500</td>\n",
       "      <td>18</td>\n",
       "      <td>22</td>\n",
       "    </tr>\n",
       "    <tr>\n",
       "      <th>2</th>\n",
       "      <td>1</td>\n",
       "      <td>gas</td>\n",
       "      <td>std</td>\n",
       "      <td>four</td>\n",
       "      <td>sedan</td>\n",
       "      <td>fwd</td>\n",
       "      <td>front</td>\n",
       "      <td>105.8</td>\n",
       "      <td>192.7</td>\n",
       "      <td>71.4</td>\n",
       "      <td>55.7</td>\n",
       "      <td>2844</td>\n",
       "      <td>3.19</td>\n",
       "      <td>3.4</td>\n",
       "      <td>8.5</td>\n",
       "      <td>110</td>\n",
       "      <td>5500</td>\n",
       "      <td>19</td>\n",
       "      <td>25</td>\n",
       "    </tr>\n",
       "    <tr>\n",
       "      <th>3</th>\n",
       "      <td>1</td>\n",
       "      <td>gas</td>\n",
       "      <td>turbo</td>\n",
       "      <td>four</td>\n",
       "      <td>sedan</td>\n",
       "      <td>fwd</td>\n",
       "      <td>front</td>\n",
       "      <td>105.8</td>\n",
       "      <td>192.7</td>\n",
       "      <td>71.4</td>\n",
       "      <td>55.9</td>\n",
       "      <td>3086</td>\n",
       "      <td>3.13</td>\n",
       "      <td>3.4</td>\n",
       "      <td>8.3</td>\n",
       "      <td>140</td>\n",
       "      <td>5500</td>\n",
       "      <td>17</td>\n",
       "      <td>20</td>\n",
       "    </tr>\n",
       "    <tr>\n",
       "      <th>4</th>\n",
       "      <td>2</td>\n",
       "      <td>gas</td>\n",
       "      <td>std</td>\n",
       "      <td>two</td>\n",
       "      <td>sedan</td>\n",
       "      <td>rwd</td>\n",
       "      <td>front</td>\n",
       "      <td>101.2</td>\n",
       "      <td>176.8</td>\n",
       "      <td>64.8</td>\n",
       "      <td>54.3</td>\n",
       "      <td>2395</td>\n",
       "      <td>3.50</td>\n",
       "      <td>2.8</td>\n",
       "      <td>8.8</td>\n",
       "      <td>101</td>\n",
       "      <td>5800</td>\n",
       "      <td>23</td>\n",
       "      <td>29</td>\n",
       "    </tr>\n",
       "  </tbody>\n",
       "</table>\n",
       "</div>"
      ],
      "text/plain": [
       "   risk fuel aspiration doors   body wheels engine_location  wheel_base  \\\n",
       "0     2  gas        std  four  sedan    fwd           front        99.8   \n",
       "1     2  gas        std  four  sedan    4wd           front        99.4   \n",
       "2     1  gas        std  four  sedan    fwd           front       105.8   \n",
       "3     1  gas      turbo  four  sedan    fwd           front       105.8   \n",
       "4     2  gas        std   two  sedan    rwd           front       101.2   \n",
       "\n",
       "   length  width  height  curb_weight  bore  stroke  compression_ratio  \\\n",
       "0   176.6   66.2    54.3         2337  3.19     3.4               10.0   \n",
       "1   176.6   66.4    54.3         2824  3.19     3.4                8.0   \n",
       "2   192.7   71.4    55.7         2844  3.19     3.4                8.5   \n",
       "3   192.7   71.4    55.9         3086  3.13     3.4                8.3   \n",
       "4   176.8   64.8    54.3         2395  3.50     2.8                8.8   \n",
       "\n",
       "   horsepower  peak_rpm  city_mpg  highway_mpg  \n",
       "0         102      5500        24           30  \n",
       "1         115      5500        18           22  \n",
       "2         110      5500        19           25  \n",
       "3         140      5500        17           20  \n",
       "4         101      5800        23           29  "
      ]
     },
     "execution_count": 2,
     "metadata": {},
     "output_type": "execute_result"
    }
   ],
   "source": [
    "safety = pd.read_excel('data/safety.xlsx')\n",
    "safety.head()"
   ]
  },
  {
   "cell_type": "markdown",
   "metadata": {},
   "source": [
    "### 중고차 데이터"
   ]
  },
  {
   "cell_type": "code",
   "execution_count": 3,
   "metadata": {
    "scrolled": true
   },
   "outputs": [
    {
     "data": {
      "text/html": [
       "<div>\n",
       "<style scoped>\n",
       "    .dataframe tbody tr th:only-of-type {\n",
       "        vertical-align: middle;\n",
       "    }\n",
       "\n",
       "    .dataframe tbody tr th {\n",
       "        vertical-align: top;\n",
       "    }\n",
       "\n",
       "    .dataframe thead th {\n",
       "        text-align: right;\n",
       "    }\n",
       "</style>\n",
       "<table border=\"1\" class=\"dataframe\">\n",
       "  <thead>\n",
       "    <tr style=\"text-align: right;\">\n",
       "      <th></th>\n",
       "      <th>mileage</th>\n",
       "      <th>model</th>\n",
       "      <th>price</th>\n",
       "      <th>year</th>\n",
       "      <th>my_car_damage</th>\n",
       "      <th>other_car_damage</th>\n",
       "    </tr>\n",
       "  </thead>\n",
       "  <tbody>\n",
       "    <tr>\n",
       "      <th>0</th>\n",
       "      <td>63608</td>\n",
       "      <td>K3</td>\n",
       "      <td>970</td>\n",
       "      <td>2017</td>\n",
       "      <td>0</td>\n",
       "      <td>564596</td>\n",
       "    </tr>\n",
       "    <tr>\n",
       "      <th>1</th>\n",
       "      <td>69336</td>\n",
       "      <td>K3</td>\n",
       "      <td>1130</td>\n",
       "      <td>2015</td>\n",
       "      <td>1839700</td>\n",
       "      <td>1140150</td>\n",
       "    </tr>\n",
       "    <tr>\n",
       "      <th>2</th>\n",
       "      <td>36000</td>\n",
       "      <td>K3</td>\n",
       "      <td>1380</td>\n",
       "      <td>2016</td>\n",
       "      <td>446520</td>\n",
       "      <td>2244910</td>\n",
       "    </tr>\n",
       "    <tr>\n",
       "      <th>3</th>\n",
       "      <td>19029</td>\n",
       "      <td>K3</td>\n",
       "      <td>1390</td>\n",
       "      <td>2017</td>\n",
       "      <td>889000</td>\n",
       "      <td>4196110</td>\n",
       "    </tr>\n",
       "    <tr>\n",
       "      <th>4</th>\n",
       "      <td>97090</td>\n",
       "      <td>K3</td>\n",
       "      <td>760</td>\n",
       "      <td>2015</td>\n",
       "      <td>2339137</td>\n",
       "      <td>2029570</td>\n",
       "    </tr>\n",
       "  </tbody>\n",
       "</table>\n",
       "</div>"
      ],
      "text/plain": [
       "   mileage model  price  year  my_car_damage  other_car_damage\n",
       "0    63608    K3    970  2017              0            564596\n",
       "1    69336    K3   1130  2015        1839700           1140150\n",
       "2    36000    K3   1380  2016         446520           2244910\n",
       "3    19029    K3   1390  2017         889000           4196110\n",
       "4    97090    K3    760  2015        2339137           2029570"
      ]
     },
     "execution_count": 3,
     "metadata": {},
     "output_type": "execute_result"
    }
   ],
   "source": [
    "cars = pd.read_excel('data/small_used_car.xlsx')\n",
    "cars.head()"
   ]
  },
  {
   "cell_type": "markdown",
   "metadata": {},
   "source": [
    "### 제동거리 데이터"
   ]
  },
  {
   "cell_type": "code",
   "execution_count": 4,
   "metadata": {},
   "outputs": [
    {
     "data": {
      "text/html": [
       "<div>\n",
       "<style scoped>\n",
       "    .dataframe tbody tr th:only-of-type {\n",
       "        vertical-align: middle;\n",
       "    }\n",
       "\n",
       "    .dataframe tbody tr th {\n",
       "        vertical-align: top;\n",
       "    }\n",
       "\n",
       "    .dataframe thead th {\n",
       "        text-align: right;\n",
       "    }\n",
       "</style>\n",
       "<table border=\"1\" class=\"dataframe\">\n",
       "  <thead>\n",
       "    <tr style=\"text-align: right;\">\n",
       "      <th></th>\n",
       "      <th>speed</th>\n",
       "      <th>dist</th>\n",
       "    </tr>\n",
       "  </thead>\n",
       "  <tbody>\n",
       "    <tr>\n",
       "      <th>0</th>\n",
       "      <td>4</td>\n",
       "      <td>2</td>\n",
       "    </tr>\n",
       "    <tr>\n",
       "      <th>1</th>\n",
       "      <td>4</td>\n",
       "      <td>10</td>\n",
       "    </tr>\n",
       "    <tr>\n",
       "      <th>2</th>\n",
       "      <td>7</td>\n",
       "      <td>4</td>\n",
       "    </tr>\n",
       "    <tr>\n",
       "      <th>3</th>\n",
       "      <td>7</td>\n",
       "      <td>22</td>\n",
       "    </tr>\n",
       "    <tr>\n",
       "      <th>4</th>\n",
       "      <td>8</td>\n",
       "      <td>16</td>\n",
       "    </tr>\n",
       "  </tbody>\n",
       "</table>\n",
       "</div>"
      ],
      "text/plain": [
       "   speed  dist\n",
       "0      4     2\n",
       "1      4    10\n",
       "2      7     4\n",
       "3      7    22\n",
       "4      8    16"
      ]
     },
     "execution_count": 4,
     "metadata": {},
     "output_type": "execute_result"
    }
   ],
   "source": [
    "braking = pd.read_excel('data/speed.xlsx')\n",
    "braking.head()"
   ]
  },
  {
   "cell_type": "markdown",
   "metadata": {},
   "source": [
    "---\n",
    "## 1. 원본 데이터에 변형"
   ]
  },
  {
   "cell_type": "code",
   "execution_count": 5,
   "metadata": {},
   "outputs": [
    {
     "data": {
      "text/html": [
       "<div>\n",
       "<style scoped>\n",
       "    .dataframe tbody tr th:only-of-type {\n",
       "        vertical-align: middle;\n",
       "    }\n",
       "\n",
       "    .dataframe tbody tr th {\n",
       "        vertical-align: top;\n",
       "    }\n",
       "\n",
       "    .dataframe thead th {\n",
       "        text-align: right;\n",
       "    }\n",
       "</style>\n",
       "<table border=\"1\" class=\"dataframe\">\n",
       "  <thead>\n",
       "    <tr style=\"text-align: right;\">\n",
       "      <th></th>\n",
       "      <th>mileage</th>\n",
       "      <th>model</th>\n",
       "      <th>price</th>\n",
       "      <th>year</th>\n",
       "      <th>my_car_damage</th>\n",
       "      <th>other_car_damage</th>\n",
       "      <th>jm_year</th>\n",
       "    </tr>\n",
       "  </thead>\n",
       "  <tbody>\n",
       "    <tr>\n",
       "      <th>0</th>\n",
       "      <td>63608</td>\n",
       "      <td>K3</td>\n",
       "      <td>970</td>\n",
       "      <td>2017</td>\n",
       "      <td>0</td>\n",
       "      <td>564596</td>\n",
       "      <td>7</td>\n",
       "    </tr>\n",
       "    <tr>\n",
       "      <th>1</th>\n",
       "      <td>69336</td>\n",
       "      <td>K3</td>\n",
       "      <td>1130</td>\n",
       "      <td>2015</td>\n",
       "      <td>1839700</td>\n",
       "      <td>1140150</td>\n",
       "      <td>5</td>\n",
       "    </tr>\n",
       "    <tr>\n",
       "      <th>2</th>\n",
       "      <td>36000</td>\n",
       "      <td>K3</td>\n",
       "      <td>1380</td>\n",
       "      <td>2016</td>\n",
       "      <td>446520</td>\n",
       "      <td>2244910</td>\n",
       "      <td>6</td>\n",
       "    </tr>\n",
       "    <tr>\n",
       "      <th>3</th>\n",
       "      <td>19029</td>\n",
       "      <td>K3</td>\n",
       "      <td>1390</td>\n",
       "      <td>2017</td>\n",
       "      <td>889000</td>\n",
       "      <td>4196110</td>\n",
       "      <td>7</td>\n",
       "    </tr>\n",
       "    <tr>\n",
       "      <th>4</th>\n",
       "      <td>97090</td>\n",
       "      <td>K3</td>\n",
       "      <td>760</td>\n",
       "      <td>2015</td>\n",
       "      <td>2339137</td>\n",
       "      <td>2029570</td>\n",
       "      <td>5</td>\n",
       "    </tr>\n",
       "  </tbody>\n",
       "</table>\n",
       "</div>"
      ],
      "text/plain": [
       "   mileage model  price  year  my_car_damage  other_car_damage  jm_year\n",
       "0    63608    K3    970  2017              0            564596        7\n",
       "1    69336    K3   1130  2015        1839700           1140150        5\n",
       "2    36000    K3   1380  2016         446520           2244910        6\n",
       "3    19029    K3   1390  2017         889000           4196110        7\n",
       "4    97090    K3    760  2015        2339137           2029570        5"
      ]
     },
     "execution_count": 5,
     "metadata": {},
     "output_type": "execute_result"
    }
   ],
   "source": [
    "cars['jm_year'] = cars.year - 2010\n",
    "cars.head()"
   ]
  },
  {
   "cell_type": "code",
   "execution_count": 6,
   "metadata": {},
   "outputs": [
    {
     "data": {
      "text/html": [
       "<table class=\"simpletable\">\n",
       "<caption>OLS Regression Results</caption>\n",
       "<tr>\n",
       "  <th>Dep. Variable:</th>          <td>price</td>      <th>  R-squared:         </th> <td>   0.687</td>\n",
       "</tr>\n",
       "<tr>\n",
       "  <th>Model:</th>                   <td>OLS</td>       <th>  Adj. R-squared:    </th> <td>   0.686</td>\n",
       "</tr>\n",
       "<tr>\n",
       "  <th>Method:</th>             <td>Least Squares</td>  <th>  F-statistic:       </th> <td>   597.3</td>\n",
       "</tr>\n",
       "<tr>\n",
       "  <th>Date:</th>             <td>Fri, 09 Oct 2020</td> <th>  Prob (F-statistic):</th> <td>1.39e-70</td>\n",
       "</tr>\n",
       "<tr>\n",
       "  <th>Time:</th>                 <td>12:36:56</td>     <th>  Log-Likelihood:    </th> <td> -1820.2</td>\n",
       "</tr>\n",
       "<tr>\n",
       "  <th>No. Observations:</th>      <td>   274</td>      <th>  AIC:               </th> <td>   3644.</td>\n",
       "</tr>\n",
       "<tr>\n",
       "  <th>Df Residuals:</th>          <td>   272</td>      <th>  BIC:               </th> <td>   3652.</td>\n",
       "</tr>\n",
       "<tr>\n",
       "  <th>Df Model:</th>              <td>     1</td>      <th>                     </th>     <td> </td>   \n",
       "</tr>\n",
       "<tr>\n",
       "  <th>Covariance Type:</th>      <td>nonrobust</td>    <th>                     </th>     <td> </td>   \n",
       "</tr>\n",
       "</table>\n",
       "<table class=\"simpletable\">\n",
       "<tr>\n",
       "      <td></td>         <th>coef</th>     <th>std err</th>      <th>t</th>      <th>P>|t|</th>  <th>[0.025</th>    <th>0.975]</th>  \n",
       "</tr>\n",
       "<tr>\n",
       "  <th>Intercept</th> <td>  505.0926</td> <td>   18.172</td> <td>   27.794</td> <td> 0.000</td> <td>  469.316</td> <td>  540.869</td>\n",
       "</tr>\n",
       "<tr>\n",
       "  <th>jm_year</th>   <td>  106.4745</td> <td>    4.357</td> <td>   24.439</td> <td> 0.000</td> <td>   97.897</td> <td>  115.052</td>\n",
       "</tr>\n",
       "</table>\n",
       "<table class=\"simpletable\">\n",
       "<tr>\n",
       "  <th>Omnibus:</th>       <td> 9.748</td> <th>  Durbin-Watson:     </th> <td>   1.525</td>\n",
       "</tr>\n",
       "<tr>\n",
       "  <th>Prob(Omnibus):</th> <td> 0.008</td> <th>  Jarque-Bera (JB):  </th> <td>   9.774</td>\n",
       "</tr>\n",
       "<tr>\n",
       "  <th>Skew:</th>          <td> 0.447</td> <th>  Prob(JB):          </th> <td> 0.00754</td>\n",
       "</tr>\n",
       "<tr>\n",
       "  <th>Kurtosis:</th>      <td> 3.236</td> <th>  Cond. No.          </th> <td>    6.97</td>\n",
       "</tr>\n",
       "</table><br/><br/>Warnings:<br/>[1] Standard Errors assume that the covariance matrix of the errors is correctly specified."
      ],
      "text/plain": [
       "<class 'statsmodels.iolib.summary.Summary'>\n",
       "\"\"\"\n",
       "                            OLS Regression Results                            \n",
       "==============================================================================\n",
       "Dep. Variable:                  price   R-squared:                       0.687\n",
       "Model:                            OLS   Adj. R-squared:                  0.686\n",
       "Method:                 Least Squares   F-statistic:                     597.3\n",
       "Date:                Fri, 09 Oct 2020   Prob (F-statistic):           1.39e-70\n",
       "Time:                        12:36:56   Log-Likelihood:                -1820.2\n",
       "No. Observations:                 274   AIC:                             3644.\n",
       "Df Residuals:                     272   BIC:                             3652.\n",
       "Df Model:                           1                                         \n",
       "Covariance Type:            nonrobust                                         \n",
       "==============================================================================\n",
       "                 coef    std err          t      P>|t|      [0.025      0.975]\n",
       "------------------------------------------------------------------------------\n",
       "Intercept    505.0926     18.172     27.794      0.000     469.316     540.869\n",
       "jm_year      106.4745      4.357     24.439      0.000      97.897     115.052\n",
       "==============================================================================\n",
       "Omnibus:                        9.748   Durbin-Watson:                   1.525\n",
       "Prob(Omnibus):                  0.008   Jarque-Bera (JB):                9.774\n",
       "Skew:                           0.447   Prob(JB):                      0.00754\n",
       "Kurtosis:                       3.236   Cond. No.                         6.97\n",
       "==============================================================================\n",
       "\n",
       "Warnings:\n",
       "[1] Standard Errors assume that the covariance matrix of the errors is correctly specified.\n",
       "\"\"\""
      ]
     },
     "execution_count": 6,
     "metadata": {},
     "output_type": "execute_result"
    }
   ],
   "source": [
    "ols('price ~ jm_year', data=cars).fit().summary()"
   ]
  },
  {
   "cell_type": "markdown",
   "metadata": {},
   "source": [
    "---\n",
    "## 2. 관계식에서 함수 적용\n",
    "Python의 관계식에 함수를 사용하면 함수를 먼저 적용한 후 분석에 투입\n",
    "```python\n",
    "y ~ log(x)\n",
    "log(y) ~ x\n",
    "```\n",
    "\n",
    "### `length`에 log 함수를 적용한 다음에 회귀분석에 독립변수로 포함"
   ]
  },
  {
   "cell_type": "code",
   "execution_count": 7,
   "metadata": {
    "scrolled": false
   },
   "outputs": [
    {
     "data": {
      "text/html": [
       "<table class=\"simpletable\">\n",
       "<caption>OLS Regression Results</caption>\n",
       "<tr>\n",
       "  <th>Dep. Variable:</th>          <td>risk</td>       <th>  R-squared:         </th> <td>   0.111</td>\n",
       "</tr>\n",
       "<tr>\n",
       "  <th>Model:</th>                   <td>OLS</td>       <th>  Adj. R-squared:    </th> <td>   0.105</td>\n",
       "</tr>\n",
       "<tr>\n",
       "  <th>Method:</th>             <td>Least Squares</td>  <th>  F-statistic:       </th> <td>   19.53</td>\n",
       "</tr>\n",
       "<tr>\n",
       "  <th>Date:</th>             <td>Fri, 09 Oct 2020</td> <th>  Prob (F-statistic):</th> <td>1.84e-05</td>\n",
       "</tr>\n",
       "<tr>\n",
       "  <th>Time:</th>                 <td>12:36:56</td>     <th>  Log-Likelihood:    </th> <td> -243.86</td>\n",
       "</tr>\n",
       "<tr>\n",
       "  <th>No. Observations:</th>      <td>   159</td>      <th>  AIC:               </th> <td>   491.7</td>\n",
       "</tr>\n",
       "<tr>\n",
       "  <th>Df Residuals:</th>          <td>   157</td>      <th>  BIC:               </th> <td>   497.9</td>\n",
       "</tr>\n",
       "<tr>\n",
       "  <th>Df Model:</th>              <td>     1</td>      <th>                     </th>     <td> </td>   \n",
       "</tr>\n",
       "<tr>\n",
       "  <th>Covariance Type:</th>      <td>nonrobust</td>    <th>                     </th>     <td> </td>   \n",
       "</tr>\n",
       "</table>\n",
       "<table class=\"simpletable\">\n",
       "<tr>\n",
       "       <td></td>          <th>coef</th>     <th>std err</th>      <th>t</th>      <th>P>|t|</th>  <th>[0.025</th>    <th>0.975]</th>  \n",
       "</tr>\n",
       "<tr>\n",
       "  <th>Intercept</th>   <td>   31.0794</td> <td>    6.866</td> <td>    4.527</td> <td> 0.000</td> <td>   17.518</td> <td>   44.641</td>\n",
       "</tr>\n",
       "<tr>\n",
       "  <th>log(length)</th> <td>   -5.8946</td> <td>    1.334</td> <td>   -4.420</td> <td> 0.000</td> <td>   -8.529</td> <td>   -3.260</td>\n",
       "</tr>\n",
       "</table>\n",
       "<table class=\"simpletable\">\n",
       "<tr>\n",
       "  <th>Omnibus:</th>       <td>10.528</td> <th>  Durbin-Watson:     </th> <td>   0.913</td>\n",
       "</tr>\n",
       "<tr>\n",
       "  <th>Prob(Omnibus):</th> <td> 0.005</td> <th>  Jarque-Bera (JB):  </th> <td>  11.388</td>\n",
       "</tr>\n",
       "<tr>\n",
       "  <th>Skew:</th>          <td> 0.654</td> <th>  Prob(JB):          </th> <td> 0.00337</td>\n",
       "</tr>\n",
       "<tr>\n",
       "  <th>Kurtosis:</th>      <td> 2.908</td> <th>  Cond. No.          </th> <td>    410.</td>\n",
       "</tr>\n",
       "</table><br/><br/>Warnings:<br/>[1] Standard Errors assume that the covariance matrix of the errors is correctly specified."
      ],
      "text/plain": [
       "<class 'statsmodels.iolib.summary.Summary'>\n",
       "\"\"\"\n",
       "                            OLS Regression Results                            \n",
       "==============================================================================\n",
       "Dep. Variable:                   risk   R-squared:                       0.111\n",
       "Model:                            OLS   Adj. R-squared:                  0.105\n",
       "Method:                 Least Squares   F-statistic:                     19.53\n",
       "Date:                Fri, 09 Oct 2020   Prob (F-statistic):           1.84e-05\n",
       "Time:                        12:36:56   Log-Likelihood:                -243.86\n",
       "No. Observations:                 159   AIC:                             491.7\n",
       "Df Residuals:                     157   BIC:                             497.9\n",
       "Df Model:                           1                                         \n",
       "Covariance Type:            nonrobust                                         \n",
       "===============================================================================\n",
       "                  coef    std err          t      P>|t|      [0.025      0.975]\n",
       "-------------------------------------------------------------------------------\n",
       "Intercept      31.0794      6.866      4.527      0.000      17.518      44.641\n",
       "log(length)    -5.8946      1.334     -4.420      0.000      -8.529      -3.260\n",
       "==============================================================================\n",
       "Omnibus:                       10.528   Durbin-Watson:                   0.913\n",
       "Prob(Omnibus):                  0.005   Jarque-Bera (JB):               11.388\n",
       "Skew:                           0.654   Prob(JB):                      0.00337\n",
       "Kurtosis:                       2.908   Cond. No.                         410.\n",
       "==============================================================================\n",
       "\n",
       "Warnings:\n",
       "[1] Standard Errors assume that the covariance matrix of the errors is correctly specified.\n",
       "\"\"\""
      ]
     },
     "execution_count": 7,
     "metadata": {},
     "output_type": "execute_result"
    }
   ],
   "source": [
    "ols('risk ~ log(length)', data = safety).fit().summary()"
   ]
  },
  {
   "cell_type": "markdown",
   "metadata": {},
   "source": [
    "---\n",
    "## 3. I 함수\n",
    "I 함수를 사용하면 덧셈, 뺄셈 등의 계산을 할 수 있음<br>\n",
    "I 함수는 있는 그대로 처리하라는 뜻 (Identity = 똑같이) 의 함수\n",
    "```python\n",
    "y ~ I(x + z)\n",
    "```\n",
    "- x와 z를 각각 독립변수로 투입하는 대신, 두 변수의 합을 독립변수로 투입\n",
    "\n",
    "### 예시\n",
    "원본 데이터에는 `국어`, `영어`, `수학` 점수가 있는데 나는 총점을 분석에 넣고 싶다.<br>\n",
    "그러면 `I(국어 + 영어 + 수학)`라고 하면 국어, 영어, 수학의 총점이 분석에 포함\n",
    "\n",
    "### `length`와 `width`의 합을 하나의 독립변수로 회귀분석에 투입\n",
    "- `length`와 `width`의 합을 회귀분석에 포함\n",
    "- `I()`가 없으면 `length`와 `width`를 각각 회귀분석의 독립변수로 넣음"
   ]
  },
  {
   "cell_type": "code",
   "execution_count": 8,
   "metadata": {
    "scrolled": true
   },
   "outputs": [
    {
     "data": {
      "text/plain": [
       "0      242.8\n",
       "1      243.0\n",
       "2      264.1\n",
       "3      264.1\n",
       "4      241.6\n",
       "       ...  \n",
       "154    257.7\n",
       "155    257.6\n",
       "156    257.7\n",
       "157    257.7\n",
       "158    257.7\n",
       "Length: 159, dtype: float64"
      ]
     },
     "execution_count": 8,
     "metadata": {},
     "output_type": "execute_result"
    }
   ],
   "source": [
    "safety.length + safety.width"
   ]
  },
  {
   "cell_type": "code",
   "execution_count": 9,
   "metadata": {
    "scrolled": false
   },
   "outputs": [
    {
     "data": {
      "text/html": [
       "<table class=\"simpletable\">\n",
       "<caption>OLS Regression Results</caption>\n",
       "<tr>\n",
       "  <th>Dep. Variable:</th>          <td>risk</td>       <th>  R-squared:         </th> <td>   0.106</td>\n",
       "</tr>\n",
       "<tr>\n",
       "  <th>Model:</th>                   <td>OLS</td>       <th>  Adj. R-squared:    </th> <td>   0.101</td>\n",
       "</tr>\n",
       "<tr>\n",
       "  <th>Method:</th>             <td>Least Squares</td>  <th>  F-statistic:       </th> <td>   18.66</td>\n",
       "</tr>\n",
       "<tr>\n",
       "  <th>Date:</th>             <td>Fri, 09 Oct 2020</td> <th>  Prob (F-statistic):</th> <td>2.76e-05</td>\n",
       "</tr>\n",
       "<tr>\n",
       "  <th>Time:</th>                 <td>12:36:56</td>     <th>  Log-Likelihood:    </th> <td> -244.25</td>\n",
       "</tr>\n",
       "<tr>\n",
       "  <th>No. Observations:</th>      <td>   159</td>      <th>  AIC:               </th> <td>   492.5</td>\n",
       "</tr>\n",
       "<tr>\n",
       "  <th>Df Residuals:</th>          <td>   157</td>      <th>  BIC:               </th> <td>   498.6</td>\n",
       "</tr>\n",
       "<tr>\n",
       "  <th>Df Model:</th>              <td>     1</td>      <th>                     </th>     <td> </td>   \n",
       "</tr>\n",
       "<tr>\n",
       "  <th>Covariance Type:</th>      <td>nonrobust</td>    <th>                     </th>     <td> </td>   \n",
       "</tr>\n",
       "</table>\n",
       "<table class=\"simpletable\">\n",
       "<tr>\n",
       "          <td></td>             <th>coef</th>     <th>std err</th>      <th>t</th>      <th>P>|t|</th>  <th>[0.025</th>    <th>0.975]</th>  \n",
       "</tr>\n",
       "<tr>\n",
       "  <th>Intercept</th>         <td>    7.7480</td> <td>    1.626</td> <td>    4.766</td> <td> 0.000</td> <td>    4.537</td> <td>   10.959</td>\n",
       "</tr>\n",
       "<tr>\n",
       "  <th>I(length + width)</th> <td>   -0.0295</td> <td>    0.007</td> <td>   -4.320</td> <td> 0.000</td> <td>   -0.043</td> <td>   -0.016</td>\n",
       "</tr>\n",
       "</table>\n",
       "<table class=\"simpletable\">\n",
       "<tr>\n",
       "  <th>Omnibus:</th>       <td>10.173</td> <th>  Durbin-Watson:     </th> <td>   0.920</td>\n",
       "</tr>\n",
       "<tr>\n",
       "  <th>Prob(Omnibus):</th> <td> 0.006</td> <th>  Jarque-Bera (JB):  </th> <td>  10.954</td>\n",
       "</tr>\n",
       "<tr>\n",
       "  <th>Skew:</th>          <td> 0.641</td> <th>  Prob(JB):          </th> <td> 0.00418</td>\n",
       "</tr>\n",
       "<tr>\n",
       "  <th>Kurtosis:</th>      <td> 2.905</td> <th>  Cond. No.          </th> <td>4.32e+03</td>\n",
       "</tr>\n",
       "</table><br/><br/>Warnings:<br/>[1] Standard Errors assume that the covariance matrix of the errors is correctly specified.<br/>[2] The condition number is large, 4.32e+03. This might indicate that there are<br/>strong multicollinearity or other numerical problems."
      ],
      "text/plain": [
       "<class 'statsmodels.iolib.summary.Summary'>\n",
       "\"\"\"\n",
       "                            OLS Regression Results                            \n",
       "==============================================================================\n",
       "Dep. Variable:                   risk   R-squared:                       0.106\n",
       "Model:                            OLS   Adj. R-squared:                  0.101\n",
       "Method:                 Least Squares   F-statistic:                     18.66\n",
       "Date:                Fri, 09 Oct 2020   Prob (F-statistic):           2.76e-05\n",
       "Time:                        12:36:56   Log-Likelihood:                -244.25\n",
       "No. Observations:                 159   AIC:                             492.5\n",
       "Df Residuals:                     157   BIC:                             498.6\n",
       "Df Model:                           1                                         \n",
       "Covariance Type:            nonrobust                                         \n",
       "=====================================================================================\n",
       "                        coef    std err          t      P>|t|      [0.025      0.975]\n",
       "-------------------------------------------------------------------------------------\n",
       "Intercept             7.7480      1.626      4.766      0.000       4.537      10.959\n",
       "I(length + width)    -0.0295      0.007     -4.320      0.000      -0.043      -0.016\n",
       "==============================================================================\n",
       "Omnibus:                       10.173   Durbin-Watson:                   0.920\n",
       "Prob(Omnibus):                  0.006   Jarque-Bera (JB):               10.954\n",
       "Skew:                           0.641   Prob(JB):                      0.00418\n",
       "Kurtosis:                       2.905   Cond. No.                     4.32e+03\n",
       "==============================================================================\n",
       "\n",
       "Warnings:\n",
       "[1] Standard Errors assume that the covariance matrix of the errors is correctly specified.\n",
       "[2] The condition number is large, 4.32e+03. This might indicate that there are\n",
       "strong multicollinearity or other numerical problems.\n",
       "\"\"\""
      ]
     },
     "execution_count": 9,
     "metadata": {},
     "output_type": "execute_result"
    }
   ],
   "source": [
    "ols('risk ~ I(length + width)', data = safety).fit().summary()"
   ]
  },
  {
   "cell_type": "markdown",
   "metadata": {},
   "source": [
    "### 단위가 inch인 `length`를 cm 단위로 바꾸기\n",
    "2.54를 곱해서 모형에 넣는다."
   ]
  },
  {
   "cell_type": "code",
   "execution_count": 10,
   "metadata": {
    "scrolled": false
   },
   "outputs": [
    {
     "data": {
      "text/html": [
       "<table class=\"simpletable\">\n",
       "<caption>OLS Regression Results</caption>\n",
       "<tr>\n",
       "  <th>Dep. Variable:</th>          <td>risk</td>       <th>  R-squared:         </th> <td>   0.113</td>\n",
       "</tr>\n",
       "<tr>\n",
       "  <th>Model:</th>                   <td>OLS</td>       <th>  Adj. R-squared:    </th> <td>   0.107</td>\n",
       "</tr>\n",
       "<tr>\n",
       "  <th>Method:</th>             <td>Least Squares</td>  <th>  F-statistic:       </th> <td>   20.01</td>\n",
       "</tr>\n",
       "<tr>\n",
       "  <th>Date:</th>             <td>Fri, 09 Oct 2020</td> <th>  Prob (F-statistic):</th> <td>1.47e-05</td>\n",
       "</tr>\n",
       "<tr>\n",
       "  <th>Time:</th>                 <td>12:36:56</td>     <th>  Log-Likelihood:    </th> <td> -243.64</td>\n",
       "</tr>\n",
       "<tr>\n",
       "  <th>No. Observations:</th>      <td>   159</td>      <th>  AIC:               </th> <td>   491.3</td>\n",
       "</tr>\n",
       "<tr>\n",
       "  <th>Df Residuals:</th>          <td>   157</td>      <th>  BIC:               </th> <td>   497.4</td>\n",
       "</tr>\n",
       "<tr>\n",
       "  <th>Df Model:</th>              <td>     1</td>      <th>                     </th>     <td> </td>   \n",
       "</tr>\n",
       "<tr>\n",
       "  <th>Covariance Type:</th>      <td>nonrobust</td>    <th>                     </th>     <td> </td>   \n",
       "</tr>\n",
       "</table>\n",
       "<table class=\"simpletable\">\n",
       "<tr>\n",
       "          <td></td>            <th>coef</th>     <th>std err</th>      <th>t</th>      <th>P>|t|</th>  <th>[0.025</th>    <th>0.975]</th>  \n",
       "</tr>\n",
       "<tr>\n",
       "  <th>Intercept</th>        <td>    6.7385</td> <td>    1.345</td> <td>    5.011</td> <td> 0.000</td> <td>    4.082</td> <td>    9.395</td>\n",
       "</tr>\n",
       "<tr>\n",
       "  <th>I(length * 2.54)</th> <td>   -0.0137</td> <td>    0.003</td> <td>   -4.474</td> <td> 0.000</td> <td>   -0.020</td> <td>   -0.008</td>\n",
       "</tr>\n",
       "</table>\n",
       "<table class=\"simpletable\">\n",
       "<tr>\n",
       "  <th>Omnibus:</th>       <td>10.632</td> <th>  Durbin-Watson:     </th> <td>   0.909</td>\n",
       "</tr>\n",
       "<tr>\n",
       "  <th>Prob(Omnibus):</th> <td> 0.005</td> <th>  Jarque-Bera (JB):  </th> <td>  11.510</td>\n",
       "</tr>\n",
       "<tr>\n",
       "  <th>Skew:</th>          <td> 0.658</td> <th>  Prob(JB):          </th> <td> 0.00317</td>\n",
       "</tr>\n",
       "<tr>\n",
       "  <th>Kurtosis:</th>      <td> 2.915</td> <th>  Cond. No.          </th> <td>6.60e+03</td>\n",
       "</tr>\n",
       "</table><br/><br/>Warnings:<br/>[1] Standard Errors assume that the covariance matrix of the errors is correctly specified.<br/>[2] The condition number is large, 6.6e+03. This might indicate that there are<br/>strong multicollinearity or other numerical problems."
      ],
      "text/plain": [
       "<class 'statsmodels.iolib.summary.Summary'>\n",
       "\"\"\"\n",
       "                            OLS Regression Results                            \n",
       "==============================================================================\n",
       "Dep. Variable:                   risk   R-squared:                       0.113\n",
       "Model:                            OLS   Adj. R-squared:                  0.107\n",
       "Method:                 Least Squares   F-statistic:                     20.01\n",
       "Date:                Fri, 09 Oct 2020   Prob (F-statistic):           1.47e-05\n",
       "Time:                        12:36:56   Log-Likelihood:                -243.64\n",
       "No. Observations:                 159   AIC:                             491.3\n",
       "Df Residuals:                     157   BIC:                             497.4\n",
       "Df Model:                           1                                         \n",
       "Covariance Type:            nonrobust                                         \n",
       "====================================================================================\n",
       "                       coef    std err          t      P>|t|      [0.025      0.975]\n",
       "------------------------------------------------------------------------------------\n",
       "Intercept            6.7385      1.345      5.011      0.000       4.082       9.395\n",
       "I(length * 2.54)    -0.0137      0.003     -4.474      0.000      -0.020      -0.008\n",
       "==============================================================================\n",
       "Omnibus:                       10.632   Durbin-Watson:                   0.909\n",
       "Prob(Omnibus):                  0.005   Jarque-Bera (JB):               11.510\n",
       "Skew:                           0.658   Prob(JB):                      0.00317\n",
       "Kurtosis:                       2.915   Cond. No.                     6.60e+03\n",
       "==============================================================================\n",
       "\n",
       "Warnings:\n",
       "[1] Standard Errors assume that the covariance matrix of the errors is correctly specified.\n",
       "[2] The condition number is large, 6.6e+03. This might indicate that there are\n",
       "strong multicollinearity or other numerical problems.\n",
       "\"\"\""
      ]
     },
     "execution_count": 10,
     "metadata": {},
     "output_type": "execute_result"
    }
   ],
   "source": [
    "ols('risk ~ I(length * 2.54)', data = safety).fit().summary()"
   ]
  },
  {
   "cell_type": "markdown",
   "metadata": {},
   "source": [
    "#### R제곱나 절편 등의 변화는 없지만, 기울기가 변함"
   ]
  },
  {
   "cell_type": "code",
   "execution_count": 11,
   "metadata": {},
   "outputs": [],
   "source": [
    "safety_ori = ols('risk ~ length', data = safety).fit()\n",
    "safety_std = ols('risk ~ I(length * 2.54)', data = safety).fit()"
   ]
  },
  {
   "cell_type": "code",
   "execution_count": 12,
   "metadata": {},
   "outputs": [
    {
     "name": "stdout",
     "output_type": "stream",
     "text": [
      "오리지널 R제곱: 0.11306860628694282\n",
      "변형한 R제곱: 0.11306860628694282\n",
      "오리지널 수정된 R제곱: 0.10741936174099975\n",
      "변형한 수정된 R제곱: 0.10741936174099975\n",
      "오리지널 AIC: 491.2819329801859\n",
      "변형한 AIC: 491.28193298018596\n",
      "오리지널 BIC: 497.4197413846264\n",
      "변형한 BIC: 497.41974138462643\n"
     ]
    }
   ],
   "source": [
    "print('오리지널 R제곱: ' + str(safety_ori.rsquared))\n",
    "print('변형한 R제곱: ' + str(safety_std.rsquared))\n",
    "print('오리지널 수정된 R제곱: ' + str(safety_ori.rsquared_adj))\n",
    "print('변형한 수정된 R제곱: ' + str(safety_std.rsquared_adj))\n",
    "print('오리지널 AIC: ' + str(safety_ori.aic))\n",
    "print('변형한 AIC: ' + str(safety_std.aic))\n",
    "print('오리지널 BIC: ' + str(safety_ori.bic))\n",
    "print('변형한 BIC: ' + str(safety_std.bic))"
   ]
  },
  {
   "cell_type": "code",
   "execution_count": 13,
   "metadata": {},
   "outputs": [
    {
     "name": "stdout",
     "output_type": "stream",
     "text": [
      "Intercept    6.738493\n",
      "length      -0.034815\n",
      "dtype: float64\n",
      "------------------------------\n",
      "Intercept           6.738493\n",
      "I(length * 2.54)   -0.013707\n",
      "dtype: float64\n"
     ]
    }
   ],
   "source": [
    "print(safety_ori.params)\n",
    "print('-' * 30)\n",
    "print(safety_std.params)"
   ]
  },
  {
   "cell_type": "markdown",
   "metadata": {},
   "source": [
    "### 단위가 다른 독립변수와 종속변수의 회귀분석\n",
    "- 가격(`price`)은 만 원 단위, 보험처리된 손해액(`my_car_damage`)은 원 단위로 되어 있음\n",
    "- 단위 차이가 많이 나기 때문에 기울기가 -4.522e-05와 같이 매우 작게 된다."
   ]
  },
  {
   "cell_type": "code",
   "execution_count": 14,
   "metadata": {
    "scrolled": false
   },
   "outputs": [
    {
     "data": {
      "text/html": [
       "<table class=\"simpletable\">\n",
       "<caption>OLS Regression Results</caption>\n",
       "<tr>\n",
       "  <th>Dep. Variable:</th>          <td>price</td>      <th>  R-squared:         </th> <td>   0.175</td>\n",
       "</tr>\n",
       "<tr>\n",
       "  <th>Model:</th>                   <td>OLS</td>       <th>  Adj. R-squared:    </th> <td>   0.172</td>\n",
       "</tr>\n",
       "<tr>\n",
       "  <th>Method:</th>             <td>Least Squares</td>  <th>  F-statistic:       </th> <td>   57.85</td>\n",
       "</tr>\n",
       "<tr>\n",
       "  <th>Date:</th>             <td>Fri, 09 Oct 2020</td> <th>  Prob (F-statistic):</th> <td>4.63e-13</td>\n",
       "</tr>\n",
       "<tr>\n",
       "  <th>Time:</th>                 <td>12:36:57</td>     <th>  Log-Likelihood:    </th> <td> -1953.0</td>\n",
       "</tr>\n",
       "<tr>\n",
       "  <th>No. Observations:</th>      <td>   274</td>      <th>  AIC:               </th> <td>   3910.</td>\n",
       "</tr>\n",
       "<tr>\n",
       "  <th>Df Residuals:</th>          <td>   272</td>      <th>  BIC:               </th> <td>   3917.</td>\n",
       "</tr>\n",
       "<tr>\n",
       "  <th>Df Model:</th>              <td>     1</td>      <th>                     </th>     <td> </td>   \n",
       "</tr>\n",
       "<tr>\n",
       "  <th>Covariance Type:</th>      <td>nonrobust</td>    <th>                     </th>     <td> </td>   \n",
       "</tr>\n",
       "</table>\n",
       "<table class=\"simpletable\">\n",
       "<tr>\n",
       "        <td></td>           <th>coef</th>     <th>std err</th>      <th>t</th>      <th>P>|t|</th>  <th>[0.025</th>    <th>0.975]</th>  \n",
       "</tr>\n",
       "<tr>\n",
       "  <th>Intercept</th>     <td>  958.5554</td> <td>   22.899</td> <td>   41.860</td> <td> 0.000</td> <td>  913.473</td> <td> 1003.637</td>\n",
       "</tr>\n",
       "<tr>\n",
       "  <th>my_car_damage</th> <td>-4.522e-05</td> <td> 5.95e-06</td> <td>   -7.606</td> <td> 0.000</td> <td>-5.69e-05</td> <td>-3.35e-05</td>\n",
       "</tr>\n",
       "</table>\n",
       "<table class=\"simpletable\">\n",
       "<tr>\n",
       "  <th>Omnibus:</th>       <td> 6.427</td> <th>  Durbin-Watson:     </th> <td>   0.668</td>\n",
       "</tr>\n",
       "<tr>\n",
       "  <th>Prob(Omnibus):</th> <td> 0.040</td> <th>  Jarque-Bera (JB):  </th> <td>   6.363</td>\n",
       "</tr>\n",
       "<tr>\n",
       "  <th>Skew:</th>          <td> 0.372</td> <th>  Prob(JB):          </th> <td>  0.0415</td>\n",
       "</tr>\n",
       "<tr>\n",
       "  <th>Kurtosis:</th>      <td> 3.054</td> <th>  Cond. No.          </th> <td>4.82e+06</td>\n",
       "</tr>\n",
       "</table><br/><br/>Warnings:<br/>[1] Standard Errors assume that the covariance matrix of the errors is correctly specified.<br/>[2] The condition number is large, 4.82e+06. This might indicate that there are<br/>strong multicollinearity or other numerical problems."
      ],
      "text/plain": [
       "<class 'statsmodels.iolib.summary.Summary'>\n",
       "\"\"\"\n",
       "                            OLS Regression Results                            \n",
       "==============================================================================\n",
       "Dep. Variable:                  price   R-squared:                       0.175\n",
       "Model:                            OLS   Adj. R-squared:                  0.172\n",
       "Method:                 Least Squares   F-statistic:                     57.85\n",
       "Date:                Fri, 09 Oct 2020   Prob (F-statistic):           4.63e-13\n",
       "Time:                        12:36:57   Log-Likelihood:                -1953.0\n",
       "No. Observations:                 274   AIC:                             3910.\n",
       "Df Residuals:                     272   BIC:                             3917.\n",
       "Df Model:                           1                                         \n",
       "Covariance Type:            nonrobust                                         \n",
       "=================================================================================\n",
       "                    coef    std err          t      P>|t|      [0.025      0.975]\n",
       "---------------------------------------------------------------------------------\n",
       "Intercept       958.5554     22.899     41.860      0.000     913.473    1003.637\n",
       "my_car_damage -4.522e-05   5.95e-06     -7.606      0.000   -5.69e-05   -3.35e-05\n",
       "==============================================================================\n",
       "Omnibus:                        6.427   Durbin-Watson:                   0.668\n",
       "Prob(Omnibus):                  0.040   Jarque-Bera (JB):                6.363\n",
       "Skew:                           0.372   Prob(JB):                       0.0415\n",
       "Kurtosis:                       3.054   Cond. No.                     4.82e+06\n",
       "==============================================================================\n",
       "\n",
       "Warnings:\n",
       "[1] Standard Errors assume that the covariance matrix of the errors is correctly specified.\n",
       "[2] The condition number is large, 4.82e+06. This might indicate that there are\n",
       "strong multicollinearity or other numerical problems.\n",
       "\"\"\""
      ]
     },
     "execution_count": 14,
     "metadata": {},
     "output_type": "execute_result"
    }
   ],
   "source": [
    "ols('price ~ my_car_damage', data=cars).fit().summary()"
   ]
  },
  {
   "cell_type": "markdown",
   "metadata": {},
   "source": [
    "### `my_car_damage`의 단위를 만원 단위로 변경하여 단위를 맞추기\n",
    "단위를 똑같이 만원 단위로 맞춰주기 위해 보험 처리 이력은 10000으로 나눠준다"
   ]
  },
  {
   "cell_type": "code",
   "execution_count": 15,
   "metadata": {},
   "outputs": [
    {
     "data": {
      "text/html": [
       "<table class=\"simpletable\">\n",
       "<caption>OLS Regression Results</caption>\n",
       "<tr>\n",
       "  <th>Dep. Variable:</th>          <td>price</td>      <th>  R-squared:         </th> <td>   0.175</td>\n",
       "</tr>\n",
       "<tr>\n",
       "  <th>Model:</th>                   <td>OLS</td>       <th>  Adj. R-squared:    </th> <td>   0.172</td>\n",
       "</tr>\n",
       "<tr>\n",
       "  <th>Method:</th>             <td>Least Squares</td>  <th>  F-statistic:       </th> <td>   57.85</td>\n",
       "</tr>\n",
       "<tr>\n",
       "  <th>Date:</th>             <td>Fri, 09 Oct 2020</td> <th>  Prob (F-statistic):</th> <td>4.63e-13</td>\n",
       "</tr>\n",
       "<tr>\n",
       "  <th>Time:</th>                 <td>12:36:57</td>     <th>  Log-Likelihood:    </th> <td> -1953.0</td>\n",
       "</tr>\n",
       "<tr>\n",
       "  <th>No. Observations:</th>      <td>   274</td>      <th>  AIC:               </th> <td>   3910.</td>\n",
       "</tr>\n",
       "<tr>\n",
       "  <th>Df Residuals:</th>          <td>   272</td>      <th>  BIC:               </th> <td>   3917.</td>\n",
       "</tr>\n",
       "<tr>\n",
       "  <th>Df Model:</th>              <td>     1</td>      <th>                     </th>     <td> </td>   \n",
       "</tr>\n",
       "<tr>\n",
       "  <th>Covariance Type:</th>      <td>nonrobust</td>    <th>                     </th>     <td> </td>   \n",
       "</tr>\n",
       "</table>\n",
       "<table class=\"simpletable\">\n",
       "<tr>\n",
       "              <td></td>                <th>coef</th>     <th>std err</th>      <th>t</th>      <th>P>|t|</th>  <th>[0.025</th>    <th>0.975]</th>  \n",
       "</tr>\n",
       "<tr>\n",
       "  <th>Intercept</th>                <td>  958.5554</td> <td>   22.899</td> <td>   41.860</td> <td> 0.000</td> <td>  913.473</td> <td> 1003.637</td>\n",
       "</tr>\n",
       "<tr>\n",
       "  <th>I(my_car_damage / 10000)</th> <td>   -0.4522</td> <td>    0.059</td> <td>   -7.606</td> <td> 0.000</td> <td>   -0.569</td> <td>   -0.335</td>\n",
       "</tr>\n",
       "</table>\n",
       "<table class=\"simpletable\">\n",
       "<tr>\n",
       "  <th>Omnibus:</th>       <td> 6.427</td> <th>  Durbin-Watson:     </th> <td>   0.668</td>\n",
       "</tr>\n",
       "<tr>\n",
       "  <th>Prob(Omnibus):</th> <td> 0.040</td> <th>  Jarque-Bera (JB):  </th> <td>   6.363</td>\n",
       "</tr>\n",
       "<tr>\n",
       "  <th>Skew:</th>          <td> 0.372</td> <th>  Prob(JB):          </th> <td>  0.0415</td>\n",
       "</tr>\n",
       "<tr>\n",
       "  <th>Kurtosis:</th>      <td> 3.054</td> <th>  Cond. No.          </th> <td>    482.</td>\n",
       "</tr>\n",
       "</table><br/><br/>Warnings:<br/>[1] Standard Errors assume that the covariance matrix of the errors is correctly specified."
      ],
      "text/plain": [
       "<class 'statsmodels.iolib.summary.Summary'>\n",
       "\"\"\"\n",
       "                            OLS Regression Results                            \n",
       "==============================================================================\n",
       "Dep. Variable:                  price   R-squared:                       0.175\n",
       "Model:                            OLS   Adj. R-squared:                  0.172\n",
       "Method:                 Least Squares   F-statistic:                     57.85\n",
       "Date:                Fri, 09 Oct 2020   Prob (F-statistic):           4.63e-13\n",
       "Time:                        12:36:57   Log-Likelihood:                -1953.0\n",
       "No. Observations:                 274   AIC:                             3910.\n",
       "Df Residuals:                     272   BIC:                             3917.\n",
       "Df Model:                           1                                         \n",
       "Covariance Type:            nonrobust                                         \n",
       "============================================================================================\n",
       "                               coef    std err          t      P>|t|      [0.025      0.975]\n",
       "--------------------------------------------------------------------------------------------\n",
       "Intercept                  958.5554     22.899     41.860      0.000     913.473    1003.637\n",
       "I(my_car_damage / 10000)    -0.4522      0.059     -7.606      0.000      -0.569      -0.335\n",
       "==============================================================================\n",
       "Omnibus:                        6.427   Durbin-Watson:                   0.668\n",
       "Prob(Omnibus):                  0.040   Jarque-Bera (JB):                6.363\n",
       "Skew:                           0.372   Prob(JB):                       0.0415\n",
       "Kurtosis:                       3.054   Cond. No.                         482.\n",
       "==============================================================================\n",
       "\n",
       "Warnings:\n",
       "[1] Standard Errors assume that the covariance matrix of the errors is correctly specified.\n",
       "\"\"\""
      ]
     },
     "execution_count": 15,
     "metadata": {},
     "output_type": "execute_result"
    }
   ],
   "source": [
    "ols('price ~ I(my_car_damage / 10000)', data = cars).fit().summary()"
   ]
  },
  {
   "cell_type": "markdown",
   "metadata": {},
   "source": [
    "### 참고"
   ]
  },
  {
   "cell_type": "code",
   "execution_count": 16,
   "metadata": {},
   "outputs": [
    {
     "data": {
      "text/plain": [
       "-452200.0"
      ]
     },
     "execution_count": 16,
     "metadata": {},
     "output_type": "execute_result"
    }
   ],
   "source": [
    "-4.522e+05"
   ]
  },
  {
   "cell_type": "code",
   "execution_count": 17,
   "metadata": {},
   "outputs": [
    {
     "data": {
      "text/plain": [
       "-4.522e-19"
      ]
     },
     "execution_count": 17,
     "metadata": {},
     "output_type": "execute_result"
    }
   ],
   "source": [
    "-0.0000000000000000004522"
   ]
  },
  {
   "cell_type": "markdown",
   "metadata": {},
   "source": [
    "---\n",
    "## 4. 수평 이동\n",
    "그래프를 수평으로 평행 이동하는 것과 동일\n",
    "```python\n",
    "y ~ I(x - 1)\n",
    "```\n",
    "- 절편의 위치를 x = 0에서 x = 1로 이동\n",
    "- x = 0보다 x = 1이 의미있는 경우, 해석이 쉬워짐\n",
    "- 기울기에는 변화가 없음\n",
    "\n",
    "### 절편을 바꿔도 분석은 같다!\n",
    "### 그냥 연식(`year`)을 이용해서 회귀분석\n",
    "- 그냥 연식을 이용해서 회귀분석을 하면 서기 0년의 가격이 절편이 된다. (절편 = -21억)\n",
    "- <b>2010~2019 사이에 있는 데이터 직선을 주욱 연장을 해서 생기는 현상</b>"
   ]
  },
  {
   "cell_type": "code",
   "execution_count": 18,
   "metadata": {
    "scrolled": false
   },
   "outputs": [
    {
     "data": {
      "text/html": [
       "<table class=\"simpletable\">\n",
       "<caption>OLS Regression Results</caption>\n",
       "<tr>\n",
       "  <th>Dep. Variable:</th>          <td>price</td>      <th>  R-squared:         </th> <td>   0.687</td>\n",
       "</tr>\n",
       "<tr>\n",
       "  <th>Model:</th>                   <td>OLS</td>       <th>  Adj. R-squared:    </th> <td>   0.686</td>\n",
       "</tr>\n",
       "<tr>\n",
       "  <th>Method:</th>             <td>Least Squares</td>  <th>  F-statistic:       </th> <td>   597.3</td>\n",
       "</tr>\n",
       "<tr>\n",
       "  <th>Date:</th>             <td>Fri, 09 Oct 2020</td> <th>  Prob (F-statistic):</th> <td>1.39e-70</td>\n",
       "</tr>\n",
       "<tr>\n",
       "  <th>Time:</th>                 <td>12:36:57</td>     <th>  Log-Likelihood:    </th> <td> -1820.2</td>\n",
       "</tr>\n",
       "<tr>\n",
       "  <th>No. Observations:</th>      <td>   274</td>      <th>  AIC:               </th> <td>   3644.</td>\n",
       "</tr>\n",
       "<tr>\n",
       "  <th>Df Residuals:</th>          <td>   272</td>      <th>  BIC:               </th> <td>   3652.</td>\n",
       "</tr>\n",
       "<tr>\n",
       "  <th>Df Model:</th>              <td>     1</td>      <th>                     </th>     <td> </td>   \n",
       "</tr>\n",
       "<tr>\n",
       "  <th>Covariance Type:</th>      <td>nonrobust</td>    <th>                     </th>     <td> </td>   \n",
       "</tr>\n",
       "</table>\n",
       "<table class=\"simpletable\">\n",
       "<tr>\n",
       "      <td></td>         <th>coef</th>     <th>std err</th>      <th>t</th>      <th>P>|t|</th>  <th>[0.025</th>    <th>0.975]</th>  \n",
       "</tr>\n",
       "<tr>\n",
       "  <th>Intercept</th> <td>-2.135e+05</td> <td> 8771.400</td> <td>  -24.341</td> <td> 0.000</td> <td>-2.31e+05</td> <td>-1.96e+05</td>\n",
       "</tr>\n",
       "<tr>\n",
       "  <th>year</th>      <td>  106.4745</td> <td>    4.357</td> <td>   24.439</td> <td> 0.000</td> <td>   97.897</td> <td>  115.052</td>\n",
       "</tr>\n",
       "</table>\n",
       "<table class=\"simpletable\">\n",
       "<tr>\n",
       "  <th>Omnibus:</th>       <td> 9.748</td> <th>  Durbin-Watson:     </th> <td>   1.525</td>\n",
       "</tr>\n",
       "<tr>\n",
       "  <th>Prob(Omnibus):</th> <td> 0.008</td> <th>  Jarque-Bera (JB):  </th> <td>   9.774</td>\n",
       "</tr>\n",
       "<tr>\n",
       "  <th>Skew:</th>          <td> 0.447</td> <th>  Prob(JB):          </th> <td> 0.00754</td>\n",
       "</tr>\n",
       "<tr>\n",
       "  <th>Kurtosis:</th>      <td> 3.236</td> <th>  Cond. No.          </th> <td>1.57e+06</td>\n",
       "</tr>\n",
       "</table><br/><br/>Warnings:<br/>[1] Standard Errors assume that the covariance matrix of the errors is correctly specified.<br/>[2] The condition number is large, 1.57e+06. This might indicate that there are<br/>strong multicollinearity or other numerical problems."
      ],
      "text/plain": [
       "<class 'statsmodels.iolib.summary.Summary'>\n",
       "\"\"\"\n",
       "                            OLS Regression Results                            \n",
       "==============================================================================\n",
       "Dep. Variable:                  price   R-squared:                       0.687\n",
       "Model:                            OLS   Adj. R-squared:                  0.686\n",
       "Method:                 Least Squares   F-statistic:                     597.3\n",
       "Date:                Fri, 09 Oct 2020   Prob (F-statistic):           1.39e-70\n",
       "Time:                        12:36:57   Log-Likelihood:                -1820.2\n",
       "No. Observations:                 274   AIC:                             3644.\n",
       "Df Residuals:                     272   BIC:                             3652.\n",
       "Df Model:                           1                                         \n",
       "Covariance Type:            nonrobust                                         \n",
       "==============================================================================\n",
       "                 coef    std err          t      P>|t|      [0.025      0.975]\n",
       "------------------------------------------------------------------------------\n",
       "Intercept  -2.135e+05   8771.400    -24.341      0.000   -2.31e+05   -1.96e+05\n",
       "year         106.4745      4.357     24.439      0.000      97.897     115.052\n",
       "==============================================================================\n",
       "Omnibus:                        9.748   Durbin-Watson:                   1.525\n",
       "Prob(Omnibus):                  0.008   Jarque-Bera (JB):                9.774\n",
       "Skew:                           0.447   Prob(JB):                      0.00754\n",
       "Kurtosis:                       3.236   Cond. No.                     1.57e+06\n",
       "==============================================================================\n",
       "\n",
       "Warnings:\n",
       "[1] Standard Errors assume that the covariance matrix of the errors is correctly specified.\n",
       "[2] The condition number is large, 1.57e+06. This might indicate that there are\n",
       "strong multicollinearity or other numerical problems.\n",
       "\"\"\""
      ]
     },
     "execution_count": 18,
     "metadata": {},
     "output_type": "execute_result"
    }
   ],
   "source": [
    "ols('price ~ year', data=cars).fit().summary()"
   ]
  },
  {
   "cell_type": "markdown",
   "metadata": {},
   "source": [
    "### `year`에서 2010을 빼면, 2010년도가 0년도가 됨\n",
    "- 2010년을 기준 연도(=0년)으로 변경하여 분석\n",
    "- 절편은 2010년 가격이 됨. (꼭 2010년도로 해야 하는 건 아님. 분석가 마음)\n",
    "- 2010년을 기준으로 1년마다 106만원씩 증가"
   ]
  },
  {
   "cell_type": "code",
   "execution_count": 19,
   "metadata": {
    "scrolled": false
   },
   "outputs": [
    {
     "data": {
      "text/html": [
       "<table class=\"simpletable\">\n",
       "<caption>OLS Regression Results</caption>\n",
       "<tr>\n",
       "  <th>Dep. Variable:</th>          <td>price</td>      <th>  R-squared:         </th> <td>   0.687</td>\n",
       "</tr>\n",
       "<tr>\n",
       "  <th>Model:</th>                   <td>OLS</td>       <th>  Adj. R-squared:    </th> <td>   0.686</td>\n",
       "</tr>\n",
       "<tr>\n",
       "  <th>Method:</th>             <td>Least Squares</td>  <th>  F-statistic:       </th> <td>   597.3</td>\n",
       "</tr>\n",
       "<tr>\n",
       "  <th>Date:</th>             <td>Fri, 09 Oct 2020</td> <th>  Prob (F-statistic):</th> <td>1.39e-70</td>\n",
       "</tr>\n",
       "<tr>\n",
       "  <th>Time:</th>                 <td>12:36:57</td>     <th>  Log-Likelihood:    </th> <td> -1820.2</td>\n",
       "</tr>\n",
       "<tr>\n",
       "  <th>No. Observations:</th>      <td>   274</td>      <th>  AIC:               </th> <td>   3644.</td>\n",
       "</tr>\n",
       "<tr>\n",
       "  <th>Df Residuals:</th>          <td>   272</td>      <th>  BIC:               </th> <td>   3652.</td>\n",
       "</tr>\n",
       "<tr>\n",
       "  <th>Df Model:</th>              <td>     1</td>      <th>                     </th>     <td> </td>   \n",
       "</tr>\n",
       "<tr>\n",
       "  <th>Covariance Type:</th>      <td>nonrobust</td>    <th>                     </th>     <td> </td>   \n",
       "</tr>\n",
       "</table>\n",
       "<table class=\"simpletable\">\n",
       "<tr>\n",
       "         <td></td>           <th>coef</th>     <th>std err</th>      <th>t</th>      <th>P>|t|</th>  <th>[0.025</th>    <th>0.975]</th>  \n",
       "</tr>\n",
       "<tr>\n",
       "  <th>Intercept</th>      <td>  505.0926</td> <td>   18.172</td> <td>   27.794</td> <td> 0.000</td> <td>  469.316</td> <td>  540.869</td>\n",
       "</tr>\n",
       "<tr>\n",
       "  <th>I(year - 2010)</th> <td>  106.4745</td> <td>    4.357</td> <td>   24.439</td> <td> 0.000</td> <td>   97.897</td> <td>  115.052</td>\n",
       "</tr>\n",
       "</table>\n",
       "<table class=\"simpletable\">\n",
       "<tr>\n",
       "  <th>Omnibus:</th>       <td> 9.748</td> <th>  Durbin-Watson:     </th> <td>   1.525</td>\n",
       "</tr>\n",
       "<tr>\n",
       "  <th>Prob(Omnibus):</th> <td> 0.008</td> <th>  Jarque-Bera (JB):  </th> <td>   9.774</td>\n",
       "</tr>\n",
       "<tr>\n",
       "  <th>Skew:</th>          <td> 0.447</td> <th>  Prob(JB):          </th> <td> 0.00754</td>\n",
       "</tr>\n",
       "<tr>\n",
       "  <th>Kurtosis:</th>      <td> 3.236</td> <th>  Cond. No.          </th> <td>    6.97</td>\n",
       "</tr>\n",
       "</table><br/><br/>Warnings:<br/>[1] Standard Errors assume that the covariance matrix of the errors is correctly specified."
      ],
      "text/plain": [
       "<class 'statsmodels.iolib.summary.Summary'>\n",
       "\"\"\"\n",
       "                            OLS Regression Results                            \n",
       "==============================================================================\n",
       "Dep. Variable:                  price   R-squared:                       0.687\n",
       "Model:                            OLS   Adj. R-squared:                  0.686\n",
       "Method:                 Least Squares   F-statistic:                     597.3\n",
       "Date:                Fri, 09 Oct 2020   Prob (F-statistic):           1.39e-70\n",
       "Time:                        12:36:57   Log-Likelihood:                -1820.2\n",
       "No. Observations:                 274   AIC:                             3644.\n",
       "Df Residuals:                     272   BIC:                             3652.\n",
       "Df Model:                           1                                         \n",
       "Covariance Type:            nonrobust                                         \n",
       "==================================================================================\n",
       "                     coef    std err          t      P>|t|      [0.025      0.975]\n",
       "----------------------------------------------------------------------------------\n",
       "Intercept        505.0926     18.172     27.794      0.000     469.316     540.869\n",
       "I(year - 2010)   106.4745      4.357     24.439      0.000      97.897     115.052\n",
       "==============================================================================\n",
       "Omnibus:                        9.748   Durbin-Watson:                   1.525\n",
       "Prob(Omnibus):                  0.008   Jarque-Bera (JB):                9.774\n",
       "Skew:                           0.447   Prob(JB):                      0.00754\n",
       "Kurtosis:                       3.236   Cond. No.                         6.97\n",
       "==============================================================================\n",
       "\n",
       "Warnings:\n",
       "[1] Standard Errors assume that the covariance matrix of the errors is correctly specified.\n",
       "\"\"\""
      ]
     },
     "execution_count": 19,
     "metadata": {},
     "output_type": "execute_result"
    }
   ],
   "source": [
    "ols('price ~ I(year - 2010)', data = cars).fit().summary()"
   ]
  },
  {
   "cell_type": "markdown",
   "metadata": {},
   "source": [
    "### 2010년의 가격을 찾는 또 다른 방법"
   ]
  },
  {
   "cell_type": "code",
   "execution_count": 20,
   "metadata": {},
   "outputs": [],
   "source": [
    "res = ols('price ~ year', data=cars).fit()"
   ]
  },
  {
   "cell_type": "code",
   "execution_count": 21,
   "metadata": {
    "scrolled": true
   },
   "outputs": [
    {
     "data": {
      "text/plain": [
       "0    505.092617\n",
       "dtype: float64"
      ]
     },
     "execution_count": 21,
     "metadata": {},
     "output_type": "execute_result"
    }
   ],
   "source": [
    "res.predict(pd.DataFrame([{'year':2010}]))"
   ]
  },
  {
   "cell_type": "markdown",
   "metadata": {},
   "source": [
    "### 참고: `params`\n",
    "절편과 기울기를 구함"
   ]
  },
  {
   "cell_type": "code",
   "execution_count": 22,
   "metadata": {},
   "outputs": [
    {
     "data": {
      "text/plain": [
       "Intercept   -213508.644366\n",
       "year            106.474496\n",
       "dtype: float64"
      ]
     },
     "execution_count": 22,
     "metadata": {},
     "output_type": "execute_result"
    }
   ],
   "source": [
    "res.params"
   ]
  },
  {
   "cell_type": "markdown",
   "metadata": {},
   "source": [
    "---\n",
    "## 5. 절편의 고정\n",
    "절편을 0으로 고정\n",
    "```python\n",
    "y ~ 0 + x\n",
    "```\n",
    "- 자주 사용되지는 않고, 논리적으로 꼭 필요한 경우에만 사용"
   ]
  },
  {
   "cell_type": "code",
   "execution_count": 23,
   "metadata": {},
   "outputs": [
    {
     "data": {
      "text/plain": [
       "length    0.004095\n",
       "dtype: float64"
      ]
     },
     "execution_count": 23,
     "metadata": {},
     "output_type": "execute_result"
    }
   ],
   "source": [
    "safety_0 = ols('risk ~ 0 + length', data=safety).fit()\n",
    "safety_0.params"
   ]
  },
  {
   "cell_type": "markdown",
   "metadata": {},
   "source": [
    "## 5-1. 절편을 임의의 값으로 고정\n",
    "절편으로 0으로 고정한 다음 수직 이동하는 것\n",
    "```python\n",
    "I(y - 1) ~ 0 + x\n",
    "```\n",
    "- 절편을 1로 고정하는 것과 같음\n",
    "- 실제로 사용될 일 없음"
   ]
  },
  {
   "cell_type": "markdown",
   "metadata": {},
   "source": [
    "---\n",
    "## 5-2. 절편의 고정과 2차식 실습\n",
    "### `제동거리 데이터`에서 `speed`를 독립변수로 `dist`를 종속변수로 회귀분석을 해보자.\n",
    "절편은 0으로 고정하고, 속도 `speed`와 속도의 제곱 `speed ** 2`을 모두 독립변수에 추가하여 2차식 형태로 회귀분석을 하자."
   ]
  },
  {
   "cell_type": "code",
   "execution_count": 24,
   "metadata": {},
   "outputs": [
    {
     "data": {
      "text/plain": [
       "<matplotlib.axes._subplots.AxesSubplot at 0x7fd16b615d30>"
      ]
     },
     "execution_count": 24,
     "metadata": {},
     "output_type": "execute_result"
    },
    {
     "data": {
      "image/png": "[encoded data removed]",
      "text/plain": [
       "<Figure size 432x288 with 1 Axes>"
      ]
     },
     "metadata": {
      "needs_background": "light"
     },
     "output_type": "display_data"
    }
   ],
   "source": [
    "braking.plot.scatter('speed', 'dist')"
   ]
  },
  {
   "cell_type": "code",
   "execution_count": 25,
   "metadata": {
    "scrolled": false
   },
   "outputs": [
    {
     "data": {
      "text/html": [
       "<table class=\"simpletable\">\n",
       "<caption>OLS Regression Results</caption>\n",
       "<tr>\n",
       "  <th>Dep. Variable:</th>          <td>dist</td>       <th>  R-squared (uncentered):</th>      <td>   0.913</td>\n",
       "</tr>\n",
       "<tr>\n",
       "  <th>Model:</th>                   <td>OLS</td>       <th>  Adj. R-squared (uncentered):</th> <td>   0.910</td>\n",
       "</tr>\n",
       "<tr>\n",
       "  <th>Method:</th>             <td>Least Squares</td>  <th>  F-statistic:       </th>          <td>   252.8</td>\n",
       "</tr>\n",
       "<tr>\n",
       "  <th>Date:</th>             <td>Fri, 09 Oct 2020</td> <th>  Prob (F-statistic):</th>          <td>3.27e-26</td>\n",
       "</tr>\n",
       "<tr>\n",
       "  <th>Time:</th>                 <td>12:36:58</td>     <th>  Log-Likelihood:    </th>          <td> -205.40</td>\n",
       "</tr>\n",
       "<tr>\n",
       "  <th>No. Observations:</th>      <td>    50</td>      <th>  AIC:               </th>          <td>   414.8</td>\n",
       "</tr>\n",
       "<tr>\n",
       "  <th>Df Residuals:</th>          <td>    48</td>      <th>  BIC:               </th>          <td>   418.6</td>\n",
       "</tr>\n",
       "<tr>\n",
       "  <th>Df Model:</th>              <td>     2</td>      <th>                     </th>              <td> </td>   \n",
       "</tr>\n",
       "<tr>\n",
       "  <th>Covariance Type:</th>      <td>nonrobust</td>    <th>                     </th>              <td> </td>   \n",
       "</tr>\n",
       "</table>\n",
       "<table class=\"simpletable\">\n",
       "<tr>\n",
       "        <td></td>           <th>coef</th>     <th>std err</th>      <th>t</th>      <th>P>|t|</th>  <th>[0.025</th>    <th>0.975]</th>  \n",
       "</tr>\n",
       "<tr>\n",
       "  <th>I(speed ** 2)</th> <td>    0.0901</td> <td>    0.029</td> <td>    3.067</td> <td> 0.004</td> <td>    0.031</td> <td>    0.149</td>\n",
       "</tr>\n",
       "<tr>\n",
       "  <th>speed</th>         <td>    1.2390</td> <td>    0.560</td> <td>    2.213</td> <td> 0.032</td> <td>    0.113</td> <td>    2.365</td>\n",
       "</tr>\n",
       "</table>\n",
       "<table class=\"simpletable\">\n",
       "<tr>\n",
       "  <th>Omnibus:</th>       <td>10.823</td> <th>  Durbin-Watson:     </th> <td>   1.763</td>\n",
       "</tr>\n",
       "<tr>\n",
       "  <th>Prob(Omnibus):</th> <td> 0.004</td> <th>  Jarque-Bera (JB):  </th> <td>  10.587</td>\n",
       "</tr>\n",
       "<tr>\n",
       "  <th>Skew:</th>          <td> 0.971</td> <th>  Prob(JB):          </th> <td> 0.00502</td>\n",
       "</tr>\n",
       "<tr>\n",
       "  <th>Kurtosis:</th>      <td> 4.144</td> <th>  Cond. No.          </th> <td>    81.9</td>\n",
       "</tr>\n",
       "</table><br/><br/>Warnings:<br/>[1] Standard Errors assume that the covariance matrix of the errors is correctly specified."
      ],
      "text/plain": [
       "<class 'statsmodels.iolib.summary.Summary'>\n",
       "\"\"\"\n",
       "                                 OLS Regression Results                                \n",
       "=======================================================================================\n",
       "Dep. Variable:                   dist   R-squared (uncentered):                   0.913\n",
       "Model:                            OLS   Adj. R-squared (uncentered):              0.910\n",
       "Method:                 Least Squares   F-statistic:                              252.8\n",
       "Date:                Fri, 09 Oct 2020   Prob (F-statistic):                    3.27e-26\n",
       "Time:                        12:36:58   Log-Likelihood:                         -205.40\n",
       "No. Observations:                  50   AIC:                                      414.8\n",
       "Df Residuals:                      48   BIC:                                      418.6\n",
       "Df Model:                           2                                                  \n",
       "Covariance Type:            nonrobust                                                  \n",
       "=================================================================================\n",
       "                    coef    std err          t      P>|t|      [0.025      0.975]\n",
       "---------------------------------------------------------------------------------\n",
       "I(speed ** 2)     0.0901      0.029      3.067      0.004       0.031       0.149\n",
       "speed             1.2390      0.560      2.213      0.032       0.113       2.365\n",
       "==============================================================================\n",
       "Omnibus:                       10.823   Durbin-Watson:                   1.763\n",
       "Prob(Omnibus):                  0.004   Jarque-Bera (JB):               10.587\n",
       "Skew:                           0.971   Prob(JB):                      0.00502\n",
       "Kurtosis:                       4.144   Cond. No.                         81.9\n",
       "==============================================================================\n",
       "\n",
       "Warnings:\n",
       "[1] Standard Errors assume that the covariance matrix of the errors is correctly specified.\n",
       "\"\"\""
      ]
     },
     "execution_count": 25,
     "metadata": {},
     "output_type": "execute_result"
    }
   ],
   "source": [
    "ols('dist ~ 0 + I(speed ** 2) + speed', data=braking).fit().summary()"
   ]
  },
  {
   "cell_type": "markdown",
   "metadata": {},
   "source": [
    "### 제동거리의 식\n",
    "```python\n",
    "dist = 0.0901*(speed**2) + 1.2390*speed\n",
    "```\n",
    "속도의 제곱의 계수 `0.0901`는 유의수준 5%에서 통계적으로 유의하다.\n",
    "\n",
    "### 1차식 형태와 2차식 형태 중에 어떤 모형으로 분석하는 것이 나을까?"
   ]
  },
  {
   "cell_type": "code",
   "execution_count": 26,
   "metadata": {},
   "outputs": [],
   "source": [
    "linear = ols('dist ~ 0 + speed', data=braking).fit() # 1차식\n",
    "quadratic = ols('dist ~ 0 + I(speed ** 2) + speed', data=braking).fit() # 2차식\n",
    "extra = ols('dist ~ 0 + I(speed ** 2)', data=braking).fit() # 2차식에서 speed를 뺀 식"
   ]
  },
  {
   "cell_type": "code",
   "execution_count": 27,
   "metadata": {},
   "outputs": [
    {
     "data": {
      "text/plain": [
       "(0.8962893058052057, 0.9132837749569258, 0.9044388915230833)"
      ]
     },
     "execution_count": 27,
     "metadata": {},
     "output_type": "execute_result"
    }
   ],
   "source": [
    "linear.rsquared, quadratic.rsquared, extra.rsquared"
   ]
  },
  {
   "cell_type": "code",
   "execution_count": 28,
   "metadata": {},
   "outputs": [
    {
     "data": {
      "text/plain": [
       "(0.8941727610257201, 0.9096705989134644, 0.9024886648194728)"
      ]
     },
     "execution_count": 28,
     "metadata": {},
     "output_type": "execute_result"
    }
   ],
   "source": [
    "linear.rsquared_adj, quadratic.rsquared_adj, extra.rsquared_adj"
   ]
  },
  {
   "cell_type": "code",
   "execution_count": 29,
   "metadata": {},
   "outputs": [
    {
     "data": {
      "text/plain": [
       "(421.749836661686, 414.8016251688076, 417.65787096151394)"
      ]
     },
     "execution_count": 29,
     "metadata": {},
     "output_type": "execute_result"
    }
   ],
   "source": [
    "linear.aic, quadratic.aic, extra.aic"
   ]
  },
  {
   "cell_type": "code",
   "execution_count": 30,
   "metadata": {},
   "outputs": [
    {
     "data": {
      "text/plain": [
       "(423.66185966711413, 418.6256711796639, 419.56989396694206)"
      ]
     },
     "execution_count": 30,
     "metadata": {},
     "output_type": "execute_result"
    }
   ],
   "source": [
    "linear.bic, quadratic.bic, extra.bic"
   ]
  },
  {
   "cell_type": "markdown",
   "metadata": {},
   "source": [
    "#### 2차식 형태로 분석하는 것이 더 낫다.\n",
    "둘 다 독립변수, 이차항만 독립변수, 일차항만 독립변수 순으로 모델의 설명력이 높다."
   ]
  },
  {
   "cell_type": "markdown",
   "metadata": {},
   "source": [
    "### 참고: 이차항\n",
    "```python\n",
    "y ~ I(x ** 2) + x\n",
    "```"
   ]
  },
  {
   "cell_type": "code",
   "execution_count": 31,
   "metadata": {
    "scrolled": true
   },
   "outputs": [
    {
     "data": {
      "text/plain": [
       "32"
      ]
     },
     "execution_count": 31,
     "metadata": {},
     "output_type": "execute_result"
    }
   ],
   "source": [
    "2 ** 5  # 2의 5승"
   ]
  },
  {
   "cell_type": "code",
   "execution_count": 32,
   "metadata": {
    "scrolled": true
   },
   "outputs": [
    {
     "data": {
      "text/plain": [
       "7"
      ]
     },
     "execution_count": 32,
     "metadata": {},
     "output_type": "execute_result"
    }
   ],
   "source": [
    "2 ^ 5  # bitwise and - 거의 쓸일 없음"
   ]
  },
  {
   "cell_type": "markdown",
   "metadata": {},
   "source": [
    "---\n",
    "## 6. 표준화\n",
    "변수의 원래 단위를 없애고 표준편차를 단위로 하는 것\n",
    "```python\n",
    "(X−μ)/σ\n",
    "```\n",
    "- μ: 평균\n",
    "- σ: 표준편차\n",
    "- 평균 = 0, 표준편차 = 1이 됨\n",
    "- 서로 다른 평균과 표준편차를 가진 변수를 비교하기 쉽게 해줌\n",
    "\n",
    "### `I(X - 평균)`: 표준화의 효과\n",
    "1. X가 평균일 때가 절편으로 바뀌게 됨\n",
    " - 원래는 길이 = 0일 때가 절편\n",
    " - 길이 = 평균일 때가 절편으로 바뀜\n",
    "2. 서로 단위가 다르거나 퍼진 정도가 다른 변수들을 동일 기준에서 기울기 비교 가능\n",
    "\n",
    "## 6-1. 표준화 회귀계수\n",
    "```python\n",
    "scale(y) ~ scale(x) + scale(z)\n",
    "```\n",
    "- 해석의 편의를 위해서 `scale(y)` 대신 `y`를 사용할 수도 있음\n",
    "- 서로 다른 단위의 독립변수들끼리 비교가 가능\n",
    "\n",
    "### 길이(`length`)와 폭(`width`)을 독립변수로 한 회귀분석: 표준화X vs 표준화"
   ]
  },
  {
   "cell_type": "markdown",
   "metadata": {},
   "source": [
    "길이의 평균과 표준편차"
   ]
  },
  {
   "cell_type": "code",
   "execution_count": 33,
   "metadata": {},
   "outputs": [
    {
     "data": {
      "text/plain": [
       "(172.41383647798736, 11.523176853998827)"
      ]
     },
     "execution_count": 33,
     "metadata": {},
     "output_type": "execute_result"
    }
   ],
   "source": [
    "safety.length.mean(), safety.length.std()"
   ]
  },
  {
   "cell_type": "markdown",
   "metadata": {},
   "source": [
    "폭의 평균과 표준편차"
   ]
  },
  {
   "cell_type": "code",
   "execution_count": 34,
   "metadata": {
    "scrolled": false
   },
   "outputs": [
    {
     "data": {
      "text/plain": [
       "(65.60754716981134, 1.9478825624742644)"
      ]
     },
     "execution_count": 34,
     "metadata": {},
     "output_type": "execute_result"
    }
   ],
   "source": [
    "safety.width.mean(), safety.width.std()"
   ]
  },
  {
   "cell_type": "markdown",
   "metadata": {},
   "source": [
    "### 표준화를 안한 분석"
   ]
  },
  {
   "cell_type": "code",
   "execution_count": 35,
   "metadata": {},
   "outputs": [
    {
     "data": {
      "text/html": [
       "<table class=\"simpletable\">\n",
       "<caption>OLS Regression Results</caption>\n",
       "<tr>\n",
       "  <th>Dep. Variable:</th>          <td>risk</td>       <th>  R-squared:         </th> <td>   0.126</td>\n",
       "</tr>\n",
       "<tr>\n",
       "  <th>Model:</th>                   <td>OLS</td>       <th>  Adj. R-squared:    </th> <td>   0.115</td>\n",
       "</tr>\n",
       "<tr>\n",
       "  <th>Method:</th>             <td>Least Squares</td>  <th>  F-statistic:       </th> <td>   11.28</td>\n",
       "</tr>\n",
       "<tr>\n",
       "  <th>Date:</th>             <td>Fri, 09 Oct 2020</td> <th>  Prob (F-statistic):</th> <td>2.67e-05</td>\n",
       "</tr>\n",
       "<tr>\n",
       "  <th>Time:</th>                 <td>12:36:59</td>     <th>  Log-Likelihood:    </th> <td> -242.45</td>\n",
       "</tr>\n",
       "<tr>\n",
       "  <th>No. Observations:</th>      <td>   159</td>      <th>  AIC:               </th> <td>   490.9</td>\n",
       "</tr>\n",
       "<tr>\n",
       "  <th>Df Residuals:</th>          <td>   156</td>      <th>  BIC:               </th> <td>   500.1</td>\n",
       "</tr>\n",
       "<tr>\n",
       "  <th>Df Model:</th>              <td>     2</td>      <th>                     </th>     <td> </td>   \n",
       "</tr>\n",
       "<tr>\n",
       "  <th>Covariance Type:</th>      <td>nonrobust</td>    <th>                     </th>     <td> </td>   \n",
       "</tr>\n",
       "</table>\n",
       "<table class=\"simpletable\">\n",
       "<tr>\n",
       "      <td></td>         <th>coef</th>     <th>std err</th>      <th>t</th>      <th>P>|t|</th>  <th>[0.025</th>    <th>0.975]</th>  \n",
       "</tr>\n",
       "<tr>\n",
       "  <th>Intercept</th> <td>    1.4168</td> <td>    3.712</td> <td>    0.382</td> <td> 0.703</td> <td>   -5.915</td> <td>    8.749</td>\n",
       "</tr>\n",
       "<tr>\n",
       "  <th>length</th>    <td>   -0.0531</td> <td>    0.014</td> <td>   -3.738</td> <td> 0.000</td> <td>   -0.081</td> <td>   -0.025</td>\n",
       "</tr>\n",
       "<tr>\n",
       "  <th>width</th>     <td>    0.1292</td> <td>    0.084</td> <td>    1.537</td> <td> 0.126</td> <td>   -0.037</td> <td>    0.295</td>\n",
       "</tr>\n",
       "</table>\n",
       "<table class=\"simpletable\">\n",
       "<tr>\n",
       "  <th>Omnibus:</th>       <td>10.622</td> <th>  Durbin-Watson:     </th> <td>   0.872</td>\n",
       "</tr>\n",
       "<tr>\n",
       "  <th>Prob(Omnibus):</th> <td> 0.005</td> <th>  Jarque-Bera (JB):  </th> <td>  11.467</td>\n",
       "</tr>\n",
       "<tr>\n",
       "  <th>Skew:</th>          <td> 0.657</td> <th>  Prob(JB):          </th> <td> 0.00324</td>\n",
       "</tr>\n",
       "<tr>\n",
       "  <th>Kurtosis:</th>      <td> 2.937</td> <th>  Cond. No.          </th> <td>7.71e+03</td>\n",
       "</tr>\n",
       "</table><br/><br/>Warnings:<br/>[1] Standard Errors assume that the covariance matrix of the errors is correctly specified.<br/>[2] The condition number is large, 7.71e+03. This might indicate that there are<br/>strong multicollinearity or other numerical problems."
      ],
      "text/plain": [
       "<class 'statsmodels.iolib.summary.Summary'>\n",
       "\"\"\"\n",
       "                            OLS Regression Results                            \n",
       "==============================================================================\n",
       "Dep. Variable:                   risk   R-squared:                       0.126\n",
       "Model:                            OLS   Adj. R-squared:                  0.115\n",
       "Method:                 Least Squares   F-statistic:                     11.28\n",
       "Date:                Fri, 09 Oct 2020   Prob (F-statistic):           2.67e-05\n",
       "Time:                        12:36:59   Log-Likelihood:                -242.45\n",
       "No. Observations:                 159   AIC:                             490.9\n",
       "Df Residuals:                     156   BIC:                             500.1\n",
       "Df Model:                           2                                         \n",
       "Covariance Type:            nonrobust                                         \n",
       "==============================================================================\n",
       "                 coef    std err          t      P>|t|      [0.025      0.975]\n",
       "------------------------------------------------------------------------------\n",
       "Intercept      1.4168      3.712      0.382      0.703      -5.915       8.749\n",
       "length        -0.0531      0.014     -3.738      0.000      -0.081      -0.025\n",
       "width          0.1292      0.084      1.537      0.126      -0.037       0.295\n",
       "==============================================================================\n",
       "Omnibus:                       10.622   Durbin-Watson:                   0.872\n",
       "Prob(Omnibus):                  0.005   Jarque-Bera (JB):               11.467\n",
       "Skew:                           0.657   Prob(JB):                      0.00324\n",
       "Kurtosis:                       2.937   Cond. No.                     7.71e+03\n",
       "==============================================================================\n",
       "\n",
       "Warnings:\n",
       "[1] Standard Errors assume that the covariance matrix of the errors is correctly specified.\n",
       "[2] The condition number is large, 7.71e+03. This might indicate that there are\n",
       "strong multicollinearity or other numerical problems.\n",
       "\"\"\""
      ]
     },
     "execution_count": 35,
     "metadata": {},
     "output_type": "execute_result"
    }
   ],
   "source": [
    "ols('risk ~ length + width', data = safety).fit().summary()"
   ]
  },
  {
   "cell_type": "markdown",
   "metadata": {},
   "source": [
    "#### 표준화를 안했을 때의 식\n",
    "```python\n",
    "risk = -0.0531 * length + 0.1292 * width + 1.4168\n",
    "```\n",
    "- 자동차의 길이가 0이고 폭이 0이면, 위험도는 1.4168\n",
    "\n",
    "### 표준화를 한 분석"
   ]
  },
  {
   "cell_type": "code",
   "execution_count": 36,
   "metadata": {},
   "outputs": [
    {
     "data": {
      "text/html": [
       "<table class=\"simpletable\">\n",
       "<caption>OLS Regression Results</caption>\n",
       "<tr>\n",
       "  <th>Dep. Variable:</th>          <td>risk</td>       <th>  R-squared:         </th> <td>   0.126</td>\n",
       "</tr>\n",
       "<tr>\n",
       "  <th>Model:</th>                   <td>OLS</td>       <th>  Adj. R-squared:    </th> <td>   0.115</td>\n",
       "</tr>\n",
       "<tr>\n",
       "  <th>Method:</th>             <td>Least Squares</td>  <th>  F-statistic:       </th> <td>   11.28</td>\n",
       "</tr>\n",
       "<tr>\n",
       "  <th>Date:</th>             <td>Fri, 09 Oct 2020</td> <th>  Prob (F-statistic):</th> <td>2.67e-05</td>\n",
       "</tr>\n",
       "<tr>\n",
       "  <th>Time:</th>                 <td>12:36:59</td>     <th>  Log-Likelihood:    </th> <td> -242.45</td>\n",
       "</tr>\n",
       "<tr>\n",
       "  <th>No. Observations:</th>      <td>   159</td>      <th>  AIC:               </th> <td>   490.9</td>\n",
       "</tr>\n",
       "<tr>\n",
       "  <th>Df Residuals:</th>          <td>   156</td>      <th>  BIC:               </th> <td>   500.1</td>\n",
       "</tr>\n",
       "<tr>\n",
       "  <th>Df Model:</th>              <td>     2</td>      <th>                     </th>     <td> </td>   \n",
       "</tr>\n",
       "<tr>\n",
       "  <th>Covariance Type:</th>      <td>nonrobust</td>    <th>                     </th>     <td> </td>   \n",
       "</tr>\n",
       "</table>\n",
       "<table class=\"simpletable\">\n",
       "<tr>\n",
       "        <td></td>           <th>coef</th>     <th>std err</th>      <th>t</th>      <th>P>|t|</th>  <th>[0.025</th>    <th>0.975]</th>  \n",
       "</tr>\n",
       "<tr>\n",
       "  <th>Intercept</th>     <td>    0.7358</td> <td>    0.089</td> <td>    8.267</td> <td> 0.000</td> <td>    0.560</td> <td>    0.912</td>\n",
       "</tr>\n",
       "<tr>\n",
       "  <th>scale(length)</th> <td>   -0.6103</td> <td>    0.163</td> <td>   -3.738</td> <td> 0.000</td> <td>   -0.933</td> <td>   -0.288</td>\n",
       "</tr>\n",
       "<tr>\n",
       "  <th>scale(width)</th>  <td>    0.2510</td> <td>    0.163</td> <td>    1.537</td> <td> 0.126</td> <td>   -0.072</td> <td>    0.573</td>\n",
       "</tr>\n",
       "</table>\n",
       "<table class=\"simpletable\">\n",
       "<tr>\n",
       "  <th>Omnibus:</th>       <td>10.622</td> <th>  Durbin-Watson:     </th> <td>   0.872</td>\n",
       "</tr>\n",
       "<tr>\n",
       "  <th>Prob(Omnibus):</th> <td> 0.005</td> <th>  Jarque-Bera (JB):  </th> <td>  11.467</td>\n",
       "</tr>\n",
       "<tr>\n",
       "  <th>Skew:</th>          <td> 0.657</td> <th>  Prob(JB):          </th> <td> 0.00324</td>\n",
       "</tr>\n",
       "<tr>\n",
       "  <th>Kurtosis:</th>      <td> 2.937</td> <th>  Cond. No.          </th> <td>    3.37</td>\n",
       "</tr>\n",
       "</table><br/><br/>Warnings:<br/>[1] Standard Errors assume that the covariance matrix of the errors is correctly specified."
      ],
      "text/plain": [
       "<class 'statsmodels.iolib.summary.Summary'>\n",
       "\"\"\"\n",
       "                            OLS Regression Results                            \n",
       "==============================================================================\n",
       "Dep. Variable:                   risk   R-squared:                       0.126\n",
       "Model:                            OLS   Adj. R-squared:                  0.115\n",
       "Method:                 Least Squares   F-statistic:                     11.28\n",
       "Date:                Fri, 09 Oct 2020   Prob (F-statistic):           2.67e-05\n",
       "Time:                        12:36:59   Log-Likelihood:                -242.45\n",
       "No. Observations:                 159   AIC:                             490.9\n",
       "Df Residuals:                     156   BIC:                             500.1\n",
       "Df Model:                           2                                         \n",
       "Covariance Type:            nonrobust                                         \n",
       "=================================================================================\n",
       "                    coef    std err          t      P>|t|      [0.025      0.975]\n",
       "---------------------------------------------------------------------------------\n",
       "Intercept         0.7358      0.089      8.267      0.000       0.560       0.912\n",
       "scale(length)    -0.6103      0.163     -3.738      0.000      -0.933      -0.288\n",
       "scale(width)      0.2510      0.163      1.537      0.126      -0.072       0.573\n",
       "==============================================================================\n",
       "Omnibus:                       10.622   Durbin-Watson:                   0.872\n",
       "Prob(Omnibus):                  0.005   Jarque-Bera (JB):               11.467\n",
       "Skew:                           0.657   Prob(JB):                      0.00324\n",
       "Kurtosis:                       2.937   Cond. No.                         3.37\n",
       "==============================================================================\n",
       "\n",
       "Warnings:\n",
       "[1] Standard Errors assume that the covariance matrix of the errors is correctly specified.\n",
       "\"\"\""
      ]
     },
     "execution_count": 36,
     "metadata": {},
     "output_type": "execute_result"
    }
   ],
   "source": [
    "ols('risk ~ scale(length) + scale(width)', data=safety).fit().summary()"
   ]
  },
  {
   "cell_type": "markdown",
   "metadata": {},
   "source": [
    "#### 표준화를 했을 때의 식\n",
    "```python\n",
    "risk = -0.6103 * (length-평균) + 0.2510 * (width-평균) + 0.7358\n",
    "```\n",
    "- 길이와 폭이 평균일 때, 위험도가 0.7358\n",
    "- 동일 선상에서 길이(`length`)와 폭(`width`)을 비교 가능"
   ]
  },
  {
   "cell_type": "markdown",
   "metadata": {},
   "source": [
    "### 표준화했을 때와 안했을 때 비교\n",
    "- 표준화한 기울기: -0.6103 (1 표준편차 증가할 때의 종속변수 변화)\n",
    "- 원래의 기울기: -0.0531 (= 표준화한 기울기 / 표준편차) (1인치 증가할 때의 종속변수 변화)"
   ]
  },
  {
   "cell_type": "code",
   "execution_count": 37,
   "metadata": {
    "scrolled": true
   },
   "outputs": [
    {
     "data": {
      "text/plain": [
       "-0.05296282507268912"
      ]
     },
     "execution_count": 37,
     "metadata": {},
     "output_type": "execute_result"
    }
   ],
   "source": [
    "-0.6103/11.523176853998827"
   ]
  },
  {
   "cell_type": "markdown",
   "metadata": {},
   "source": [
    "## 6-2. 표준화 실습\n",
    "### 중고차 데이터에서 `year`와 `mileage`를 표준화하여 `price`를 예측하자."
   ]
  },
  {
   "cell_type": "code",
   "execution_count": 38,
   "metadata": {},
   "outputs": [
    {
     "data": {
      "text/plain": [
       "Intercept         853.660584\n",
       "scale(year)       218.100576\n",
       "scale(mileage)   -100.204447\n",
       "dtype: float64"
      ]
     },
     "execution_count": 38,
     "metadata": {},
     "output_type": "execute_result"
    }
   ],
   "source": [
    "cars_std = ols('price ~ scale(year) + scale(mileage)', data=cars).fit()\n",
    "cars_std.params"
   ]
  },
  {
   "cell_type": "markdown",
   "metadata": {},
   "source": [
    "```python\n",
    "price = 853 + 218 * s(year) - 100 * s(mileage)\n",
    "```\n",
    "#### 평균적인 연식(`year`)에 평균적인 주행거리(`mileage`)를 가진 중고차의 가격(`price`) = `853`\n",
    "\n",
    "#### `year`가 1표준편차 증가할 때 `price`는 `218.1006` 만큼 변한다.\n",
    "\n",
    "#### `mileage`가 1표준편차 증가할 때 `price`는 `-100.2044` 만큼 변한다.\n",
    "\n",
    "### 표준화한 모형의 R제곱과 독립변수를 표준화하지 않은 모형의 R제곱은 똑같다."
   ]
  },
  {
   "cell_type": "code",
   "execution_count": 39,
   "metadata": {
    "scrolled": false
   },
   "outputs": [
    {
     "name": "stdout",
     "output_type": "stream",
     "text": [
      "표준화한 모형의 R제곱: 0.7486005251564052\n",
      "표준화하지 않은 모형의 R제곱: 0.7486005251564052\n"
     ]
    }
   ],
   "source": [
    "cars_ori = ols('price ~ year + mileage', data=cars).fit()\n",
    "\n",
    "print('표준화한 모형의 R제곱: ' + str(cars_std.rsquared))\n",
    "print('표준화하지 않은 모형의 R제곱: ' + str(cars_ori.rsquared))"
   ]
  },
  {
   "cell_type": "markdown",
   "metadata": {},
   "source": [
    "### 표준화를 한다 = 단위를 바꾼다\n",
    "- `price` = 단위가 만원 → 기울기도 만원 단위\n",
    "- `scale(price)` = 단위가 표준편차"
   ]
  },
  {
   "cell_type": "markdown",
   "metadata": {},
   "source": [
    "## 7. 서열로 변환 후 회귀분석\n",
    "독립변수 또는 종속변수를 서열로 변환하여 회귀분석\n",
    "```python\n",
    "y.rank() ~ x.rank()\n",
    "```\n",
    "- 스피어만 상관계수의 아이디어와 동일\n",
    " - 스피어만 상관계수: 등수로 바꾼 후 피어슨 상관계수를 구함\n",
    "- 일부 비선형적 관계가 존재할 경우에 사용\n",
    "- 최솟값~최댓값의 범위를 벗어나는 사례의 경우에는 예측이 불가능 (기준 데이터가 없기 때문)\n",
    "- 자주 사용하지는 않지만, 구간이 제각각인 소득 등을 분석할 때 이상치를 제거하기 위해 사용됨\n",
    "\n",
    "### `length`와 `width`를 각각 순서대로 등수를 매겨서, 그 등수로 회귀분석"
   ]
  },
  {
   "cell_type": "code",
   "execution_count": 40,
   "metadata": {},
   "outputs": [
    {
     "data": {
      "text/html": [
       "<table class=\"simpletable\">\n",
       "<caption>OLS Regression Results</caption>\n",
       "<tr>\n",
       "  <th>Dep. Variable:</th>          <td>risk</td>       <th>  R-squared:         </th> <td>   0.158</td>\n",
       "</tr>\n",
       "<tr>\n",
       "  <th>Model:</th>                   <td>OLS</td>       <th>  Adj. R-squared:    </th> <td>   0.147</td>\n",
       "</tr>\n",
       "<tr>\n",
       "  <th>Method:</th>             <td>Least Squares</td>  <th>  F-statistic:       </th> <td>   14.63</td>\n",
       "</tr>\n",
       "<tr>\n",
       "  <th>Date:</th>             <td>Fri, 09 Oct 2020</td> <th>  Prob (F-statistic):</th> <td>1.50e-06</td>\n",
       "</tr>\n",
       "<tr>\n",
       "  <th>Time:</th>                 <td>12:36:59</td>     <th>  Log-Likelihood:    </th> <td> -239.51</td>\n",
       "</tr>\n",
       "<tr>\n",
       "  <th>No. Observations:</th>      <td>   159</td>      <th>  AIC:               </th> <td>   485.0</td>\n",
       "</tr>\n",
       "<tr>\n",
       "  <th>Df Residuals:</th>          <td>   156</td>      <th>  BIC:               </th> <td>   494.2</td>\n",
       "</tr>\n",
       "<tr>\n",
       "  <th>Df Model:</th>              <td>     2</td>      <th>                     </th>     <td> </td>   \n",
       "</tr>\n",
       "<tr>\n",
       "  <th>Covariance Type:</th>      <td>nonrobust</td>    <th>                     </th>     <td> </td>   \n",
       "</tr>\n",
       "</table>\n",
       "<table class=\"simpletable\">\n",
       "<tr>\n",
       "        <td></td>           <th>coef</th>     <th>std err</th>      <th>t</th>      <th>P>|t|</th>  <th>[0.025</th>    <th>0.975]</th>  \n",
       "</tr>\n",
       "<tr>\n",
       "  <th>Intercept</th>     <td>    1.3187</td> <td>    0.180</td> <td>    7.313</td> <td> 0.000</td> <td>    0.963</td> <td>    1.675</td>\n",
       "</tr>\n",
       "<tr>\n",
       "  <th>length.rank()</th> <td>   -0.0185</td> <td>    0.004</td> <td>   -4.742</td> <td> 0.000</td> <td>   -0.026</td> <td>   -0.011</td>\n",
       "</tr>\n",
       "<tr>\n",
       "  <th>width.rank()</th>  <td>    0.0112</td> <td>    0.004</td> <td>    2.868</td> <td> 0.005</td> <td>    0.003</td> <td>    0.019</td>\n",
       "</tr>\n",
       "</table>\n",
       "<table class=\"simpletable\">\n",
       "<tr>\n",
       "  <th>Omnibus:</th>       <td> 7.575</td> <th>  Durbin-Watson:     </th> <td>   0.873</td>\n",
       "</tr>\n",
       "<tr>\n",
       "  <th>Prob(Omnibus):</th> <td> 0.023</td> <th>  Jarque-Bera (JB):  </th> <td>   7.910</td>\n",
       "</tr>\n",
       "<tr>\n",
       "  <th>Skew:</th>          <td> 0.542</td> <th>  Prob(JB):          </th> <td>  0.0192</td>\n",
       "</tr>\n",
       "<tr>\n",
       "  <th>Kurtosis:</th>      <td> 2.865</td> <th>  Cond. No.          </th> <td>    267.</td>\n",
       "</tr>\n",
       "</table><br/><br/>Warnings:<br/>[1] Standard Errors assume that the covariance matrix of the errors is correctly specified."
      ],
      "text/plain": [
       "<class 'statsmodels.iolib.summary.Summary'>\n",
       "\"\"\"\n",
       "                            OLS Regression Results                            \n",
       "==============================================================================\n",
       "Dep. Variable:                   risk   R-squared:                       0.158\n",
       "Model:                            OLS   Adj. R-squared:                  0.147\n",
       "Method:                 Least Squares   F-statistic:                     14.63\n",
       "Date:                Fri, 09 Oct 2020   Prob (F-statistic):           1.50e-06\n",
       "Time:                        12:36:59   Log-Likelihood:                -239.51\n",
       "No. Observations:                 159   AIC:                             485.0\n",
       "Df Residuals:                     156   BIC:                             494.2\n",
       "Df Model:                           2                                         \n",
       "Covariance Type:            nonrobust                                         \n",
       "=================================================================================\n",
       "                    coef    std err          t      P>|t|      [0.025      0.975]\n",
       "---------------------------------------------------------------------------------\n",
       "Intercept         1.3187      0.180      7.313      0.000       0.963       1.675\n",
       "length.rank()    -0.0185      0.004     -4.742      0.000      -0.026      -0.011\n",
       "width.rank()      0.0112      0.004      2.868      0.005       0.003       0.019\n",
       "==============================================================================\n",
       "Omnibus:                        7.575   Durbin-Watson:                   0.873\n",
       "Prob(Omnibus):                  0.023   Jarque-Bera (JB):                7.910\n",
       "Skew:                           0.542   Prob(JB):                       0.0192\n",
       "Kurtosis:                       2.865   Cond. No.                         267.\n",
       "==============================================================================\n",
       "\n",
       "Warnings:\n",
       "[1] Standard Errors assume that the covariance matrix of the errors is correctly specified.\n",
       "\"\"\""
      ]
     },
     "execution_count": 40,
     "metadata": {},
     "output_type": "execute_result"
    }
   ],
   "source": [
    "ols('risk ~ length.rank() + width.rank()', data=safety).fit().summary()"
   ]
  }
 ],
 "metadata": {
  "kernelspec": {
   "display_name": "Python 3",
   "language": "python",
   "name": "python3"
  },
  "language_info": {
   "codemirror_mode": {
    "name": "ipython",
    "version": 3
   },
   "file_extension": ".py",
   "mimetype": "text/x-python",
   "name": "python",
   "nbconvert_exporter": "python",
   "pygments_lexer": "ipython3",
   "version": "3.8.3"
  }
 },
 "nbformat": 4,
 "nbformat_minor": 4
}
